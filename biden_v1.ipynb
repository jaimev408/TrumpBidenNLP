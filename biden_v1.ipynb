{
 "cells": [
  {
   "cell_type": "code",
   "execution_count": 1,
   "metadata": {},
   "outputs": [],
   "source": [
    "import tweepy\n",
    "import pandas as pd\n",
    "import numpy as np\n",
    "import matplotlib.pyplot as plt\n",
    "from nltk.sentiment.vader import SentimentIntensityAnalyzer\n",
    "import pickle\n",
    "from wordcloud import WordCloud, STOPWORDS\n",
    "\n",
    "plt.style.use('fivethirtyeight')"
   ]
  },
  {
   "cell_type": "code",
   "execution_count": 2,
   "metadata": {},
   "outputs": [
    {
     "name": "stdout",
     "output_type": "stream",
     "text": [
      "MANOJ JEREDDY\n"
     ]
    }
   ],
   "source": [
    "#dont run these \n",
    "AccessToken = '1325166553-AaLqrAHSEzFQg0KOQPrfL5B46EiOuvw3bWV7FUb'\n",
    "AccessTokenSecret = 'ahA6V1c7wQoByveazFsq1dcf2YrqccUqbmlPuWCNUJ8Yo'\n",
    "API_key = 'BtsZY4DuRx6D6WuYRmyRKc5gr'\n",
    "API_key_secret = 'hcqxqk31EzMpKMcRvNdQKDzpGVmsShVlfpX3k1vDXR6zzbIwuJ'\n",
    "\n",
    "auth = tweepy.OAuthHandler(API_key,API_key_secret)\n",
    "auth.set_access_token(AccessToken, AccessTokenSecret)\n",
    "api = tweepy.API(auth)\n",
    "\n",
    "user = api.me()\n",
    "print(user.name)"
   ]
  },
  {
   "cell_type": "code",
   "execution_count": 3,
   "metadata": {},
   "outputs": [
    {
     "name": "stdout",
     "output_type": "stream",
     "text": [
      "Number of tweets extracted: 1800.\n"
     ]
    }
   ],
   "source": [
    "tweets = []\n",
    "\n",
    "for page in range(1,10):\n",
    "    tweets.extend(api.user_timeline(screen_name = \"JoeBiden\", count=200, page=page))\n",
    "    \n",
    "print(\"Number of tweets extracted: {}.\".format(len(tweets)))\n"
   ]
  },
  {
   "cell_type": "markdown",
   "metadata": {},
   "source": [
    "## Proof of Concept Work for Biden Twitter Analysis for Small Dataset of 1800 tweets"
   ]
  },
  {
   "cell_type": "code",
   "execution_count": 4,
   "metadata": {},
   "outputs": [],
   "source": [
    "with open('biden_tweets.pkl', 'wb') as f:\n",
    "    pickle.dump(tweets, f)"
   ]
  },
  {
   "cell_type": "code",
   "execution_count": 5,
   "metadata": {},
   "outputs": [
    {
     "name": "stdout",
     "output_type": "stream",
     "text": [
      "I extend my deep condolences to the loved ones of the peacekeepers, including 6 American service members, who died… https://t.co/h5ZF41fR9C\n",
      "RT @Transition46: President-elect Biden spoke this morning with His Holiness Pope Francis. https://t.co/om635SC3M9 https://t.co/DYuiiphOE0\n",
      "Because of the Affordable Care Act:\n",
      "\n",
      "- People with pre-existing conditions are protected\n",
      "- More than 20 million Ame… https://t.co/GglK0KyJe7\n",
      "Ron Klain’s deep, varied experience and capacity to work with people all across the political spectrum is precisely… https://t.co/KOx0BvNlae\n",
      "This Veterans Day, I feel the full weight of the honor and the responsibility that has been entrusted to me by the… https://t.co/VjsNzut0R3\n"
     ]
    }
   ],
   "source": [
    "file = open('biden_tweets.pkl','rb')\n",
    "tweets = pickle.load(file)\n",
    "for tweet in tweets[:5]:\n",
    "    print(tweet.text)\n",
    "    "
   ]
  },
  {
   "cell_type": "code",
   "execution_count": 6,
   "metadata": {},
   "outputs": [],
   "source": [
    "own_tweets = [tweet for tweet in tweets if tweet.retweeted == False and \"RT @\" not in tweet.text]\n",
    "\n"
   ]
  },
  {
   "cell_type": "code",
   "execution_count": 7,
   "metadata": {},
   "outputs": [
    {
     "data": {
      "text/plain": [
       "datetime.datetime(2020, 11, 12, 19, 20)"
      ]
     },
     "execution_count": 7,
     "metadata": {},
     "output_type": "execute_result"
    }
   ],
   "source": [
    "own_tweets[0].created_at"
   ]
  },
  {
   "cell_type": "code",
   "execution_count": 8,
   "metadata": {},
   "outputs": [
    {
     "data": {
      "text/plain": [
       "'I extend my deep condolences to the loved ones of the peacekeepers, including 6 American service members, who died… https://t.co/h5ZF41fR9C'"
      ]
     },
     "execution_count": 8,
     "metadata": {},
     "output_type": "execute_result"
    }
   ],
   "source": [
    "own_tweets[0].text"
   ]
  },
  {
   "cell_type": "code",
   "execution_count": 9,
   "metadata": {},
   "outputs": [
    {
     "data": {
      "text/plain": [
       "351008"
      ]
     },
     "execution_count": 9,
     "metadata": {},
     "output_type": "execute_result"
    }
   ],
   "source": [
    "own_tweets[0].favorite_count"
   ]
  },
  {
   "cell_type": "code",
   "execution_count": 10,
   "metadata": {},
   "outputs": [],
   "source": [
    "df = pd.DataFrame(data = [[tweet.created_at, tweet.text, len(tweet.text), tweet.id, tweet.favorite_count, tweet.retweet_count] for tweet in own_tweets],\n",
    "                 columns= ['date','tweet', 'tweet_length', 'id', 'likes', 'retweets'])"
   ]
  },
  {
   "cell_type": "code",
   "execution_count": 11,
   "metadata": {},
   "outputs": [
    {
     "data": {
      "text/html": [
       "<div>\n",
       "<style scoped>\n",
       "    .dataframe tbody tr th:only-of-type {\n",
       "        vertical-align: middle;\n",
       "    }\n",
       "\n",
       "    .dataframe tbody tr th {\n",
       "        vertical-align: top;\n",
       "    }\n",
       "\n",
       "    .dataframe thead th {\n",
       "        text-align: right;\n",
       "    }\n",
       "</style>\n",
       "<table border=\"1\" class=\"dataframe\">\n",
       "  <thead>\n",
       "    <tr style=\"text-align: right;\">\n",
       "      <th></th>\n",
       "      <th>date</th>\n",
       "      <th>tweet</th>\n",
       "      <th>tweet_length</th>\n",
       "      <th>id</th>\n",
       "      <th>likes</th>\n",
       "      <th>retweets</th>\n",
       "    </tr>\n",
       "  </thead>\n",
       "  <tbody>\n",
       "    <tr>\n",
       "      <th>0</th>\n",
       "      <td>2020-11-12 19:20:00</td>\n",
       "      <td>I extend my deep condolences to the loved ones...</td>\n",
       "      <td>139</td>\n",
       "      <td>1326968002839908353</td>\n",
       "      <td>351008</td>\n",
       "      <td>26642</td>\n",
       "    </tr>\n",
       "    <tr>\n",
       "      <th>1</th>\n",
       "      <td>2020-11-12 18:30:00</td>\n",
       "      <td>Because of the Affordable Care Act:\\n\\n- Peopl...</td>\n",
       "      <td>140</td>\n",
       "      <td>1326955421320450049</td>\n",
       "      <td>82659</td>\n",
       "      <td>8509</td>\n",
       "    </tr>\n",
       "    <tr>\n",
       "      <th>2</th>\n",
       "      <td>2020-11-12 01:19:45</td>\n",
       "      <td>Ron Klain’s deep, varied experience and capaci...</td>\n",
       "      <td>140</td>\n",
       "      <td>1326696150364286976</td>\n",
       "      <td>202370</td>\n",
       "      <td>16814</td>\n",
       "    </tr>\n",
       "    <tr>\n",
       "      <th>3</th>\n",
       "      <td>2020-11-11 21:30:00</td>\n",
       "      <td>This Veterans Day, I feel the full weight of t...</td>\n",
       "      <td>139</td>\n",
       "      <td>1326638331204038656</td>\n",
       "      <td>282464</td>\n",
       "      <td>19264</td>\n",
       "    </tr>\n",
       "    <tr>\n",
       "      <th>4</th>\n",
       "      <td>2020-11-11 16:08:11</td>\n",
       "      <td>Today, we honor the service of those who have ...</td>\n",
       "      <td>140</td>\n",
       "      <td>1326557341697839106</td>\n",
       "      <td>357665</td>\n",
       "      <td>32327</td>\n",
       "    </tr>\n",
       "  </tbody>\n",
       "</table>\n",
       "</div>"
      ],
      "text/plain": [
       "                 date                                              tweet  \\\n",
       "0 2020-11-12 19:20:00  I extend my deep condolences to the loved ones...   \n",
       "1 2020-11-12 18:30:00  Because of the Affordable Care Act:\\n\\n- Peopl...   \n",
       "2 2020-11-12 01:19:45  Ron Klain’s deep, varied experience and capaci...   \n",
       "3 2020-11-11 21:30:00  This Veterans Day, I feel the full weight of t...   \n",
       "4 2020-11-11 16:08:11  Today, we honor the service of those who have ...   \n",
       "\n",
       "   tweet_length                   id   likes  retweets  \n",
       "0           139  1326968002839908353  351008     26642  \n",
       "1           140  1326955421320450049   82659      8509  \n",
       "2           140  1326696150364286976  202370     16814  \n",
       "3           139  1326638331204038656  282464     19264  \n",
       "4           140  1326557341697839106  357665     32327  "
      ]
     },
     "execution_count": 11,
     "metadata": {},
     "output_type": "execute_result"
    }
   ],
   "source": [
    "df.head()"
   ]
  },
  {
   "cell_type": "code",
   "execution_count": 12,
   "metadata": {},
   "outputs": [
    {
     "data": {
      "text/html": [
       "<div>\n",
       "<style scoped>\n",
       "    .dataframe tbody tr th:only-of-type {\n",
       "        vertical-align: middle;\n",
       "    }\n",
       "\n",
       "    .dataframe tbody tr th {\n",
       "        vertical-align: top;\n",
       "    }\n",
       "\n",
       "    .dataframe thead th {\n",
       "        text-align: right;\n",
       "    }\n",
       "</style>\n",
       "<table border=\"1\" class=\"dataframe\">\n",
       "  <thead>\n",
       "    <tr style=\"text-align: right;\">\n",
       "      <th></th>\n",
       "      <th>date</th>\n",
       "      <th>tweet</th>\n",
       "      <th>tweet_length</th>\n",
       "      <th>id</th>\n",
       "      <th>likes</th>\n",
       "      <th>retweets</th>\n",
       "    </tr>\n",
       "  </thead>\n",
       "  <tbody>\n",
       "    <tr>\n",
       "      <th>1656</th>\n",
       "      <td>2020-06-21 19:24:00</td>\n",
       "      <td>It’s in some of our darkest moments of despair...</td>\n",
       "      <td>140</td>\n",
       "      <td>1274785156050464768</td>\n",
       "      <td>46003</td>\n",
       "      <td>15021</td>\n",
       "    </tr>\n",
       "    <tr>\n",
       "      <th>1657</th>\n",
       "      <td>2020-06-21 02:50:17</td>\n",
       "      <td>Speed up the testing.</td>\n",
       "      <td>21</td>\n",
       "      <td>1274535081470824451</td>\n",
       "      <td>245417</td>\n",
       "      <td>33343</td>\n",
       "    </tr>\n",
       "    <tr>\n",
       "      <th>1658</th>\n",
       "      <td>2020-06-21 00:45:00</td>\n",
       "      <td>I've found that the way to overcome enormous t...</td>\n",
       "      <td>140</td>\n",
       "      <td>1274503550358478850</td>\n",
       "      <td>21528</td>\n",
       "      <td>5159</td>\n",
       "    </tr>\n",
       "    <tr>\n",
       "      <th>1659</th>\n",
       "      <td>2020-06-20 23:35:52</td>\n",
       "      <td>This nation has always strived to serve as a b...</td>\n",
       "      <td>140</td>\n",
       "      <td>1274486151714353152</td>\n",
       "      <td>25505</td>\n",
       "      <td>5363</td>\n",
       "    </tr>\n",
       "    <tr>\n",
       "      <th>1660</th>\n",
       "      <td>2020-06-20 22:22:00</td>\n",
       "      <td>Folks credit me for speaking out on marriage e...</td>\n",
       "      <td>140</td>\n",
       "      <td>1274467563745865729</td>\n",
       "      <td>17109</td>\n",
       "      <td>4124</td>\n",
       "    </tr>\n",
       "  </tbody>\n",
       "</table>\n",
       "</div>"
      ],
      "text/plain": [
       "                    date                                              tweet  \\\n",
       "1656 2020-06-21 19:24:00  It’s in some of our darkest moments of despair...   \n",
       "1657 2020-06-21 02:50:17                              Speed up the testing.   \n",
       "1658 2020-06-21 00:45:00  I've found that the way to overcome enormous t...   \n",
       "1659 2020-06-20 23:35:52  This nation has always strived to serve as a b...   \n",
       "1660 2020-06-20 22:22:00  Folks credit me for speaking out on marriage e...   \n",
       "\n",
       "      tweet_length                   id   likes  retweets  \n",
       "1656           140  1274785156050464768   46003     15021  \n",
       "1657            21  1274535081470824451  245417     33343  \n",
       "1658           140  1274503550358478850   21528      5159  \n",
       "1659           140  1274486151714353152   25505      5363  \n",
       "1660           140  1274467563745865729   17109      4124  "
      ]
     },
     "execution_count": 12,
     "metadata": {},
     "output_type": "execute_result"
    }
   ],
   "source": [
    " df.tail()"
   ]
  },
  {
   "cell_type": "code",
   "execution_count": 13,
   "metadata": {},
   "outputs": [
    {
     "data": {
      "text/html": [
       "<div>\n",
       "<style scoped>\n",
       "    .dataframe tbody tr th:only-of-type {\n",
       "        vertical-align: middle;\n",
       "    }\n",
       "\n",
       "    .dataframe tbody tr th {\n",
       "        vertical-align: top;\n",
       "    }\n",
       "\n",
       "    .dataframe thead th {\n",
       "        text-align: right;\n",
       "    }\n",
       "</style>\n",
       "<table border=\"1\" class=\"dataframe\">\n",
       "  <thead>\n",
       "    <tr style=\"text-align: right;\">\n",
       "      <th></th>\n",
       "      <th>date</th>\n",
       "      <th>tweet</th>\n",
       "      <th>tweet_length</th>\n",
       "      <th>id</th>\n",
       "      <th>likes</th>\n",
       "      <th>retweets</th>\n",
       "    </tr>\n",
       "  </thead>\n",
       "  <tbody>\n",
       "    <tr>\n",
       "      <th>35</th>\n",
       "      <td>2020-11-07 16:52:42</td>\n",
       "      <td>America, I’m honored that you have chosen me t...</td>\n",
       "      <td>140</td>\n",
       "      <td>1325118992785223682</td>\n",
       "      <td>3288759</td>\n",
       "      <td>625707</td>\n",
       "    </tr>\n",
       "  </tbody>\n",
       "</table>\n",
       "</div>"
      ],
      "text/plain": [
       "                  date                                              tweet  \\\n",
       "35 2020-11-07 16:52:42  America, I’m honored that you have chosen me t...   \n",
       "\n",
       "    tweet_length                   id    likes  retweets  \n",
       "35           140  1325118992785223682  3288759    625707  "
      ]
     },
     "execution_count": 13,
     "metadata": {},
     "output_type": "execute_result"
    }
   ],
   "source": [
    "df[df['likes']==df['likes'].max()]"
   ]
  },
  {
   "cell_type": "code",
   "execution_count": 14,
   "metadata": {},
   "outputs": [
    {
     "data": {
      "text/plain": [
       "count    1.661000e+03\n",
       "mean     1.094476e+05\n",
       "std      1.837133e+05\n",
       "min      2.556000e+03\n",
       "25%      2.287100e+04\n",
       "50%      4.852900e+04\n",
       "75%      1.209940e+05\n",
       "max      3.288759e+06\n",
       "Name: likes, dtype: float64"
      ]
     },
     "execution_count": 14,
     "metadata": {},
     "output_type": "execute_result"
    }
   ],
   "source": [
    "df['likes'].describe()"
   ]
  },
  {
   "cell_type": "code",
   "execution_count": 15,
   "metadata": {},
   "outputs": [
    {
     "data": {
      "image/png": "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\n",
      "text/plain": [
       "<Figure size 1440x720 with 1 Axes>"
      ]
     },
     "metadata": {},
     "output_type": "display_data"
    }
   ],
   "source": [
    "df['likes'].plot(kind = 'hist', bins= 200, figsize = (20,10), ec= 'black')\n",
    "plt.xlim((-100, 300000))\n",
    "plt.xlabel('Likes count')\n",
    "plt.ylabel('Tweets Frequency')\n",
    "plt.title('Number of Likes by tweets')\n",
    "plt.show()"
   ]
  },
  {
   "cell_type": "code",
   "execution_count": 16,
   "metadata": {},
   "outputs": [
    {
     "data": {
      "text/plain": [
       "0.8899"
      ]
     },
     "execution_count": 16,
     "metadata": {},
     "output_type": "execute_result"
    }
   ],
   "source": [
    "vader = SentimentIntensityAnalyzer()\n",
    "\n",
    "#example\n",
    "sentence = \"Today is a beautiful day. I am very happy and excited to be here\"\n",
    "vader.polarity_scores(sentence)['compound']"
   ]
  },
  {
   "cell_type": "code",
   "execution_count": 17,
   "metadata": {},
   "outputs": [],
   "source": [
    "f = lambda tweet: vader.polarity_scores(tweet)['compound']\n",
    "df['sentiment'] = df['tweet'].apply(f)\n",
    "df['date'] = pd.to_datetime(df['date']).dt.date"
   ]
  },
  {
   "cell_type": "code",
   "execution_count": 18,
   "metadata": {},
   "outputs": [
    {
     "data": {
      "text/html": [
       "<div>\n",
       "<style scoped>\n",
       "    .dataframe tbody tr th:only-of-type {\n",
       "        vertical-align: middle;\n",
       "    }\n",
       "\n",
       "    .dataframe tbody tr th {\n",
       "        vertical-align: top;\n",
       "    }\n",
       "\n",
       "    .dataframe thead th {\n",
       "        text-align: right;\n",
       "    }\n",
       "</style>\n",
       "<table border=\"1\" class=\"dataframe\">\n",
       "  <thead>\n",
       "    <tr style=\"text-align: right;\">\n",
       "      <th></th>\n",
       "      <th>date</th>\n",
       "      <th>tweet</th>\n",
       "      <th>tweet_length</th>\n",
       "      <th>id</th>\n",
       "      <th>likes</th>\n",
       "      <th>retweets</th>\n",
       "      <th>sentiment</th>\n",
       "    </tr>\n",
       "  </thead>\n",
       "  <tbody>\n",
       "    <tr>\n",
       "      <th>0</th>\n",
       "      <td>2020-11-12</td>\n",
       "      <td>I extend my deep condolences to the loved ones...</td>\n",
       "      <td>139</td>\n",
       "      <td>1326968002839908353</td>\n",
       "      <td>351008</td>\n",
       "      <td>26642</td>\n",
       "      <td>0.8020</td>\n",
       "    </tr>\n",
       "    <tr>\n",
       "      <th>1</th>\n",
       "      <td>2020-11-12</td>\n",
       "      <td>Because of the Affordable Care Act:\\n\\n- Peopl...</td>\n",
       "      <td>140</td>\n",
       "      <td>1326955421320450049</td>\n",
       "      <td>82659</td>\n",
       "      <td>8509</td>\n",
       "      <td>0.7269</td>\n",
       "    </tr>\n",
       "    <tr>\n",
       "      <th>2</th>\n",
       "      <td>2020-11-12</td>\n",
       "      <td>Ron Klain’s deep, varied experience and capaci...</td>\n",
       "      <td>140</td>\n",
       "      <td>1326696150364286976</td>\n",
       "      <td>202370</td>\n",
       "      <td>16814</td>\n",
       "      <td>0.0000</td>\n",
       "    </tr>\n",
       "    <tr>\n",
       "      <th>3</th>\n",
       "      <td>2020-11-11</td>\n",
       "      <td>This Veterans Day, I feel the full weight of t...</td>\n",
       "      <td>139</td>\n",
       "      <td>1326638331204038656</td>\n",
       "      <td>282464</td>\n",
       "      <td>19264</td>\n",
       "      <td>0.6124</td>\n",
       "    </tr>\n",
       "    <tr>\n",
       "      <th>4</th>\n",
       "      <td>2020-11-11</td>\n",
       "      <td>Today, we honor the service of those who have ...</td>\n",
       "      <td>140</td>\n",
       "      <td>1326557341697839106</td>\n",
       "      <td>357665</td>\n",
       "      <td>32327</td>\n",
       "      <td>0.5859</td>\n",
       "    </tr>\n",
       "  </tbody>\n",
       "</table>\n",
       "</div>"
      ],
      "text/plain": [
       "         date                                              tweet  \\\n",
       "0  2020-11-12  I extend my deep condolences to the loved ones...   \n",
       "1  2020-11-12  Because of the Affordable Care Act:\\n\\n- Peopl...   \n",
       "2  2020-11-12  Ron Klain’s deep, varied experience and capaci...   \n",
       "3  2020-11-11  This Veterans Day, I feel the full weight of t...   \n",
       "4  2020-11-11  Today, we honor the service of those who have ...   \n",
       "\n",
       "   tweet_length                   id   likes  retweets  sentiment  \n",
       "0           139  1326968002839908353  351008     26642     0.8020  \n",
       "1           140  1326955421320450049   82659      8509     0.7269  \n",
       "2           140  1326696150364286976  202370     16814     0.0000  \n",
       "3           139  1326638331204038656  282464     19264     0.6124  \n",
       "4           140  1326557341697839106  357665     32327     0.5859  "
      ]
     },
     "execution_count": 18,
     "metadata": {},
     "output_type": "execute_result"
    }
   ],
   "source": [
    "df.head()"
   ]
  },
  {
   "cell_type": "code",
   "execution_count": 19,
   "metadata": {},
   "outputs": [
    {
     "data": {
      "image/png": "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\n",
      "text/plain": [
       "<Figure size 1080x540 with 1 Axes>"
      ]
     },
     "metadata": {},
     "output_type": "display_data"
    }
   ],
   "source": [
    "df['sentiment'].plot(kind = 'hist', bins = 20, ec = 'black', figsize=(15,7.5))\n",
    "plt.xlabel('Sentiment')\n",
    "plt.ylabel('Frequency')\n",
    "plt.title('Sentiment Analysis histogram')\n",
    "plt.show()"
   ]
  },
  {
   "cell_type": "code",
   "execution_count": 20,
   "metadata": {},
   "outputs": [],
   "source": [
    "date_df = df.groupby(['date']).mean().reset_index()"
   ]
  },
  {
   "cell_type": "code",
   "execution_count": 21,
   "metadata": {},
   "outputs": [
    {
     "data": {
      "text/html": [
       "<div>\n",
       "<style scoped>\n",
       "    .dataframe tbody tr th:only-of-type {\n",
       "        vertical-align: middle;\n",
       "    }\n",
       "\n",
       "    .dataframe tbody tr th {\n",
       "        vertical-align: top;\n",
       "    }\n",
       "\n",
       "    .dataframe thead th {\n",
       "        text-align: right;\n",
       "    }\n",
       "</style>\n",
       "<table border=\"1\" class=\"dataframe\">\n",
       "  <thead>\n",
       "    <tr style=\"text-align: right;\">\n",
       "      <th></th>\n",
       "      <th>date</th>\n",
       "      <th>tweet_length</th>\n",
       "      <th>id</th>\n",
       "      <th>likes</th>\n",
       "      <th>retweets</th>\n",
       "      <th>sentiment</th>\n",
       "    </tr>\n",
       "  </thead>\n",
       "  <tbody>\n",
       "    <tr>\n",
       "      <th>0</th>\n",
       "      <td>2020-06-20</td>\n",
       "      <td>140.00</td>\n",
       "      <td>1.274477e+18</td>\n",
       "      <td>21307.000000</td>\n",
       "      <td>4743.500000</td>\n",
       "      <td>0.219900</td>\n",
       "    </tr>\n",
       "    <tr>\n",
       "      <th>1</th>\n",
       "      <td>2020-06-21</td>\n",
       "      <td>111.80</td>\n",
       "      <td>1.274699e+18</td>\n",
       "      <td>108452.000000</td>\n",
       "      <td>19346.400000</td>\n",
       "      <td>-0.115620</td>\n",
       "    </tr>\n",
       "    <tr>\n",
       "      <th>2</th>\n",
       "      <td>2020-06-22</td>\n",
       "      <td>140.00</td>\n",
       "      <td>1.275071e+18</td>\n",
       "      <td>56882.571429</td>\n",
       "      <td>11135.857143</td>\n",
       "      <td>0.147829</td>\n",
       "    </tr>\n",
       "    <tr>\n",
       "      <th>3</th>\n",
       "      <td>2020-06-23</td>\n",
       "      <td>130.25</td>\n",
       "      <td>1.275438e+18</td>\n",
       "      <td>55099.125000</td>\n",
       "      <td>11711.500000</td>\n",
       "      <td>0.227175</td>\n",
       "    </tr>\n",
       "    <tr>\n",
       "      <th>4</th>\n",
       "      <td>2020-06-24</td>\n",
       "      <td>120.50</td>\n",
       "      <td>1.275813e+18</td>\n",
       "      <td>59315.875000</td>\n",
       "      <td>12049.500000</td>\n",
       "      <td>0.240837</td>\n",
       "    </tr>\n",
       "  </tbody>\n",
       "</table>\n",
       "</div>"
      ],
      "text/plain": [
       "         date  tweet_length            id          likes      retweets  \\\n",
       "0  2020-06-20        140.00  1.274477e+18   21307.000000   4743.500000   \n",
       "1  2020-06-21        111.80  1.274699e+18  108452.000000  19346.400000   \n",
       "2  2020-06-22        140.00  1.275071e+18   56882.571429  11135.857143   \n",
       "3  2020-06-23        130.25  1.275438e+18   55099.125000  11711.500000   \n",
       "4  2020-06-24        120.50  1.275813e+18   59315.875000  12049.500000   \n",
       "\n",
       "   sentiment  \n",
       "0   0.219900  \n",
       "1  -0.115620  \n",
       "2   0.147829  \n",
       "3   0.227175  \n",
       "4   0.240837  "
      ]
     },
     "execution_count": 21,
     "metadata": {},
     "output_type": "execute_result"
    }
   ],
   "source": [
    "date_df.head()"
   ]
  },
  {
   "cell_type": "code",
   "execution_count": 22,
   "metadata": {},
   "outputs": [
    {
     "data": {
      "text/plain": [
       "Text(0.5, 1.0, 'Daily Average Sentiment')"
      ]
     },
     "execution_count": 22,
     "metadata": {},
     "output_type": "execute_result"
    },
    {
     "data": {
      "image/png": "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\n",
      "text/plain": [
       "<Figure size 1440x720 with 1 Axes>"
      ]
     },
     "metadata": {},
     "output_type": "display_data"
    }
   ],
   "source": [
    "date_df.plot(kind= 'line', x ='date', y = 'sentiment', figsize = (20,10), ylim = (-1,1))\n",
    "plt.axhline(y=0, color = 'black')\n",
    "plt.ylabel('Average Sentiment')\n",
    "plt.title('Daily Average Sentiment')"
   ]
  },
  {
   "cell_type": "code",
   "execution_count": 23,
   "metadata": {},
   "outputs": [],
   "source": [
    "text = \" \".join(text for text in df.tweet)\n",
    "\n",
    "stopwords = set(STOPWORDS)\n",
    "stopwords.update([\"HTTPS\",\"CO\",\"Will\"])"
   ]
  },
  {
   "cell_type": "code",
   "execution_count": 24,
   "metadata": {},
   "outputs": [
    {
     "data": {
      "image/png": "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\n",
      "text/plain": [
       "<Figure size 432x288 with 1 Axes>"
      ]
     },
     "metadata": {},
     "output_type": "display_data"
    }
   ],
   "source": [
    "wordcloud = WordCloud(stopwords = stopwords, background_color = \"white\").generate(text)\n",
    "\n",
    "plt.imshow(wordcloud, interpolation = 'bilinear' )\n",
    "plt.axis('off')\n",
    "plt.show()"
   ]
  },
  {
   "cell_type": "code",
   "execution_count": 29,
   "metadata": {},
   "outputs": [
    {
     "data": {
      "text/html": [
       "<div>\n",
       "<style scoped>\n",
       "    .dataframe tbody tr th:only-of-type {\n",
       "        vertical-align: middle;\n",
       "    }\n",
       "\n",
       "    .dataframe tbody tr th {\n",
       "        vertical-align: top;\n",
       "    }\n",
       "\n",
       "    .dataframe thead th {\n",
       "        text-align: right;\n",
       "    }\n",
       "</style>\n",
       "<table border=\"1\" class=\"dataframe\">\n",
       "  <thead>\n",
       "    <tr style=\"text-align: right;\">\n",
       "      <th></th>\n",
       "      <th>date</th>\n",
       "      <th>tweet</th>\n",
       "      <th>tweet_length</th>\n",
       "      <th>id</th>\n",
       "      <th>likes</th>\n",
       "      <th>retweets</th>\n",
       "      <th>sentiment</th>\n",
       "    </tr>\n",
       "  </thead>\n",
       "  <tbody>\n",
       "    <tr>\n",
       "      <th>0</th>\n",
       "      <td>2020-11-12</td>\n",
       "      <td>I extend my deep condolences to the loved ones...</td>\n",
       "      <td>139</td>\n",
       "      <td>1326968002839908353</td>\n",
       "      <td>351008</td>\n",
       "      <td>26642</td>\n",
       "      <td>0.8020</td>\n",
       "    </tr>\n",
       "    <tr>\n",
       "      <th>1</th>\n",
       "      <td>2020-11-12</td>\n",
       "      <td>Because of the Affordable Care Act:\\n\\n- Peopl...</td>\n",
       "      <td>140</td>\n",
       "      <td>1326955421320450049</td>\n",
       "      <td>82659</td>\n",
       "      <td>8509</td>\n",
       "      <td>0.7269</td>\n",
       "    </tr>\n",
       "    <tr>\n",
       "      <th>2</th>\n",
       "      <td>2020-11-12</td>\n",
       "      <td>Ron Klain’s deep, varied experience and capaci...</td>\n",
       "      <td>140</td>\n",
       "      <td>1326696150364286976</td>\n",
       "      <td>202370</td>\n",
       "      <td>16814</td>\n",
       "      <td>0.0000</td>\n",
       "    </tr>\n",
       "    <tr>\n",
       "      <th>3</th>\n",
       "      <td>2020-11-11</td>\n",
       "      <td>This Veterans Day, I feel the full weight of t...</td>\n",
       "      <td>139</td>\n",
       "      <td>1326638331204038656</td>\n",
       "      <td>282464</td>\n",
       "      <td>19264</td>\n",
       "      <td>0.6124</td>\n",
       "    </tr>\n",
       "    <tr>\n",
       "      <th>4</th>\n",
       "      <td>2020-11-11</td>\n",
       "      <td>Today, we honor the service of those who have ...</td>\n",
       "      <td>140</td>\n",
       "      <td>1326557341697839106</td>\n",
       "      <td>357665</td>\n",
       "      <td>32327</td>\n",
       "      <td>0.5859</td>\n",
       "    </tr>\n",
       "    <tr>\n",
       "      <th>...</th>\n",
       "      <td>...</td>\n",
       "      <td>...</td>\n",
       "      <td>...</td>\n",
       "      <td>...</td>\n",
       "      <td>...</td>\n",
       "      <td>...</td>\n",
       "      <td>...</td>\n",
       "    </tr>\n",
       "    <tr>\n",
       "      <th>1656</th>\n",
       "      <td>2020-06-21</td>\n",
       "      <td>It’s in some of our darkest moments of despair...</td>\n",
       "      <td>140</td>\n",
       "      <td>1274785156050464768</td>\n",
       "      <td>46003</td>\n",
       "      <td>15021</td>\n",
       "      <td>0.3612</td>\n",
       "    </tr>\n",
       "    <tr>\n",
       "      <th>1657</th>\n",
       "      <td>2020-06-21</td>\n",
       "      <td>Speed up the testing.</td>\n",
       "      <td>21</td>\n",
       "      <td>1274535081470824451</td>\n",
       "      <td>245417</td>\n",
       "      <td>33343</td>\n",
       "      <td>0.0000</td>\n",
       "    </tr>\n",
       "    <tr>\n",
       "      <th>1658</th>\n",
       "      <td>2020-06-21</td>\n",
       "      <td>I've found that the way to overcome enormous t...</td>\n",
       "      <td>140</td>\n",
       "      <td>1274503550358478850</td>\n",
       "      <td>21528</td>\n",
       "      <td>5159</td>\n",
       "      <td>-0.8979</td>\n",
       "    </tr>\n",
       "    <tr>\n",
       "      <th>1659</th>\n",
       "      <td>2020-06-20</td>\n",
       "      <td>This nation has always strived to serve as a b...</td>\n",
       "      <td>140</td>\n",
       "      <td>1274486151714353152</td>\n",
       "      <td>25505</td>\n",
       "      <td>5363</td>\n",
       "      <td>0.6542</td>\n",
       "    </tr>\n",
       "    <tr>\n",
       "      <th>1660</th>\n",
       "      <td>2020-06-20</td>\n",
       "      <td>Folks credit me for speaking out on marriage e...</td>\n",
       "      <td>140</td>\n",
       "      <td>1274467563745865729</td>\n",
       "      <td>17109</td>\n",
       "      <td>4124</td>\n",
       "      <td>-0.2144</td>\n",
       "    </tr>\n",
       "  </tbody>\n",
       "</table>\n",
       "<p>1661 rows × 7 columns</p>\n",
       "</div>"
      ],
      "text/plain": [
       "            date                                              tweet  \\\n",
       "0     2020-11-12  I extend my deep condolences to the loved ones...   \n",
       "1     2020-11-12  Because of the Affordable Care Act:\\n\\n- Peopl...   \n",
       "2     2020-11-12  Ron Klain’s deep, varied experience and capaci...   \n",
       "3     2020-11-11  This Veterans Day, I feel the full weight of t...   \n",
       "4     2020-11-11  Today, we honor the service of those who have ...   \n",
       "...          ...                                                ...   \n",
       "1656  2020-06-21  It’s in some of our darkest moments of despair...   \n",
       "1657  2020-06-21                              Speed up the testing.   \n",
       "1658  2020-06-21  I've found that the way to overcome enormous t...   \n",
       "1659  2020-06-20  This nation has always strived to serve as a b...   \n",
       "1660  2020-06-20  Folks credit me for speaking out on marriage e...   \n",
       "\n",
       "      tweet_length                   id   likes  retweets  sentiment  \n",
       "0              139  1326968002839908353  351008     26642     0.8020  \n",
       "1              140  1326955421320450049   82659      8509     0.7269  \n",
       "2              140  1326696150364286976  202370     16814     0.0000  \n",
       "3              139  1326638331204038656  282464     19264     0.6124  \n",
       "4              140  1326557341697839106  357665     32327     0.5859  \n",
       "...            ...                  ...     ...       ...        ...  \n",
       "1656           140  1274785156050464768   46003     15021     0.3612  \n",
       "1657            21  1274535081470824451  245417     33343     0.0000  \n",
       "1658           140  1274503550358478850   21528      5159    -0.8979  \n",
       "1659           140  1274486151714353152   25505      5363     0.6542  \n",
       "1660           140  1274467563745865729   17109      4124    -0.2144  \n",
       "\n",
       "[1661 rows x 7 columns]"
      ]
     },
     "execution_count": 29,
     "metadata": {},
     "output_type": "execute_result"
    }
   ],
   "source": [
    "df"
   ]
  },
  {
   "cell_type": "code",
   "execution_count": 34,
   "metadata": {},
   "outputs": [],
   "source": [
    "sent_cat = []\n",
    "for index, row in df.iterrows():\n",
    "    if row['sentiment']<0:\n",
    "        sent_cat.append('negative')\n",
    "    elif row['sentiment']>0:\n",
    "        sent_cat.append('postive')\n",
    "    else:\n",
    "        sent_cat.append('neutral')"
   ]
  },
  {
   "cell_type": "code",
   "execution_count": 37,
   "metadata": {},
   "outputs": [
    {
     "data": {
      "text/plain": [
       "1661"
      ]
     },
     "execution_count": 37,
     "metadata": {},
     "output_type": "execute_result"
    }
   ],
   "source": [
    "len(sent_cat)"
   ]
  },
  {
   "cell_type": "code",
   "execution_count": 38,
   "metadata": {},
   "outputs": [],
   "source": [
    "df['sent_cat'] = sent_cat"
   ]
  },
  {
   "cell_type": "code",
   "execution_count": 39,
   "metadata": {},
   "outputs": [
    {
     "data": {
      "text/html": [
       "<div>\n",
       "<style scoped>\n",
       "    .dataframe tbody tr th:only-of-type {\n",
       "        vertical-align: middle;\n",
       "    }\n",
       "\n",
       "    .dataframe tbody tr th {\n",
       "        vertical-align: top;\n",
       "    }\n",
       "\n",
       "    .dataframe thead th {\n",
       "        text-align: right;\n",
       "    }\n",
       "</style>\n",
       "<table border=\"1\" class=\"dataframe\">\n",
       "  <thead>\n",
       "    <tr style=\"text-align: right;\">\n",
       "      <th></th>\n",
       "      <th>date</th>\n",
       "      <th>tweet</th>\n",
       "      <th>tweet_length</th>\n",
       "      <th>id</th>\n",
       "      <th>likes</th>\n",
       "      <th>retweets</th>\n",
       "      <th>sentiment</th>\n",
       "      <th>sent_cat</th>\n",
       "    </tr>\n",
       "  </thead>\n",
       "  <tbody>\n",
       "    <tr>\n",
       "      <th>0</th>\n",
       "      <td>2020-11-12</td>\n",
       "      <td>I extend my deep condolences to the loved ones...</td>\n",
       "      <td>139</td>\n",
       "      <td>1326968002839908353</td>\n",
       "      <td>351008</td>\n",
       "      <td>26642</td>\n",
       "      <td>0.8020</td>\n",
       "      <td>postive</td>\n",
       "    </tr>\n",
       "    <tr>\n",
       "      <th>1</th>\n",
       "      <td>2020-11-12</td>\n",
       "      <td>Because of the Affordable Care Act:\\n\\n- Peopl...</td>\n",
       "      <td>140</td>\n",
       "      <td>1326955421320450049</td>\n",
       "      <td>82659</td>\n",
       "      <td>8509</td>\n",
       "      <td>0.7269</td>\n",
       "      <td>postive</td>\n",
       "    </tr>\n",
       "    <tr>\n",
       "      <th>2</th>\n",
       "      <td>2020-11-12</td>\n",
       "      <td>Ron Klain’s deep, varied experience and capaci...</td>\n",
       "      <td>140</td>\n",
       "      <td>1326696150364286976</td>\n",
       "      <td>202370</td>\n",
       "      <td>16814</td>\n",
       "      <td>0.0000</td>\n",
       "      <td>neutral</td>\n",
       "    </tr>\n",
       "    <tr>\n",
       "      <th>3</th>\n",
       "      <td>2020-11-11</td>\n",
       "      <td>This Veterans Day, I feel the full weight of t...</td>\n",
       "      <td>139</td>\n",
       "      <td>1326638331204038656</td>\n",
       "      <td>282464</td>\n",
       "      <td>19264</td>\n",
       "      <td>0.6124</td>\n",
       "      <td>postive</td>\n",
       "    </tr>\n",
       "    <tr>\n",
       "      <th>4</th>\n",
       "      <td>2020-11-11</td>\n",
       "      <td>Today, we honor the service of those who have ...</td>\n",
       "      <td>140</td>\n",
       "      <td>1326557341697839106</td>\n",
       "      <td>357665</td>\n",
       "      <td>32327</td>\n",
       "      <td>0.5859</td>\n",
       "      <td>postive</td>\n",
       "    </tr>\n",
       "    <tr>\n",
       "      <th>...</th>\n",
       "      <td>...</td>\n",
       "      <td>...</td>\n",
       "      <td>...</td>\n",
       "      <td>...</td>\n",
       "      <td>...</td>\n",
       "      <td>...</td>\n",
       "      <td>...</td>\n",
       "      <td>...</td>\n",
       "    </tr>\n",
       "    <tr>\n",
       "      <th>1656</th>\n",
       "      <td>2020-06-21</td>\n",
       "      <td>It’s in some of our darkest moments of despair...</td>\n",
       "      <td>140</td>\n",
       "      <td>1274785156050464768</td>\n",
       "      <td>46003</td>\n",
       "      <td>15021</td>\n",
       "      <td>0.3612</td>\n",
       "      <td>postive</td>\n",
       "    </tr>\n",
       "    <tr>\n",
       "      <th>1657</th>\n",
       "      <td>2020-06-21</td>\n",
       "      <td>Speed up the testing.</td>\n",
       "      <td>21</td>\n",
       "      <td>1274535081470824451</td>\n",
       "      <td>245417</td>\n",
       "      <td>33343</td>\n",
       "      <td>0.0000</td>\n",
       "      <td>neutral</td>\n",
       "    </tr>\n",
       "    <tr>\n",
       "      <th>1658</th>\n",
       "      <td>2020-06-21</td>\n",
       "      <td>I've found that the way to overcome enormous t...</td>\n",
       "      <td>140</td>\n",
       "      <td>1274503550358478850</td>\n",
       "      <td>21528</td>\n",
       "      <td>5159</td>\n",
       "      <td>-0.8979</td>\n",
       "      <td>negative</td>\n",
       "    </tr>\n",
       "    <tr>\n",
       "      <th>1659</th>\n",
       "      <td>2020-06-20</td>\n",
       "      <td>This nation has always strived to serve as a b...</td>\n",
       "      <td>140</td>\n",
       "      <td>1274486151714353152</td>\n",
       "      <td>25505</td>\n",
       "      <td>5363</td>\n",
       "      <td>0.6542</td>\n",
       "      <td>postive</td>\n",
       "    </tr>\n",
       "    <tr>\n",
       "      <th>1660</th>\n",
       "      <td>2020-06-20</td>\n",
       "      <td>Folks credit me for speaking out on marriage e...</td>\n",
       "      <td>140</td>\n",
       "      <td>1274467563745865729</td>\n",
       "      <td>17109</td>\n",
       "      <td>4124</td>\n",
       "      <td>-0.2144</td>\n",
       "      <td>negative</td>\n",
       "    </tr>\n",
       "  </tbody>\n",
       "</table>\n",
       "<p>1661 rows × 8 columns</p>\n",
       "</div>"
      ],
      "text/plain": [
       "            date                                              tweet  \\\n",
       "0     2020-11-12  I extend my deep condolences to the loved ones...   \n",
       "1     2020-11-12  Because of the Affordable Care Act:\\n\\n- Peopl...   \n",
       "2     2020-11-12  Ron Klain’s deep, varied experience and capaci...   \n",
       "3     2020-11-11  This Veterans Day, I feel the full weight of t...   \n",
       "4     2020-11-11  Today, we honor the service of those who have ...   \n",
       "...          ...                                                ...   \n",
       "1656  2020-06-21  It’s in some of our darkest moments of despair...   \n",
       "1657  2020-06-21                              Speed up the testing.   \n",
       "1658  2020-06-21  I've found that the way to overcome enormous t...   \n",
       "1659  2020-06-20  This nation has always strived to serve as a b...   \n",
       "1660  2020-06-20  Folks credit me for speaking out on marriage e...   \n",
       "\n",
       "      tweet_length                   id   likes  retweets  sentiment  sent_cat  \n",
       "0              139  1326968002839908353  351008     26642     0.8020   postive  \n",
       "1              140  1326955421320450049   82659      8509     0.7269   postive  \n",
       "2              140  1326696150364286976  202370     16814     0.0000   neutral  \n",
       "3              139  1326638331204038656  282464     19264     0.6124   postive  \n",
       "4              140  1326557341697839106  357665     32327     0.5859   postive  \n",
       "...            ...                  ...     ...       ...        ...       ...  \n",
       "1656           140  1274785156050464768   46003     15021     0.3612   postive  \n",
       "1657            21  1274535081470824451  245417     33343     0.0000   neutral  \n",
       "1658           140  1274503550358478850   21528      5159    -0.8979  negative  \n",
       "1659           140  1274486151714353152   25505      5363     0.6542   postive  \n",
       "1660           140  1274467563745865729   17109      4124    -0.2144  negative  \n",
       "\n",
       "[1661 rows x 8 columns]"
      ]
     },
     "execution_count": 39,
     "metadata": {},
     "output_type": "execute_result"
    }
   ],
   "source": [
    "df"
   ]
  },
  {
   "cell_type": "code",
   "execution_count": 32,
   "metadata": {},
   "outputs": [
    {
     "data": {
      "text/html": [
       "<div>\n",
       "<style scoped>\n",
       "    .dataframe tbody tr th:only-of-type {\n",
       "        vertical-align: middle;\n",
       "    }\n",
       "\n",
       "    .dataframe tbody tr th {\n",
       "        vertical-align: top;\n",
       "    }\n",
       "\n",
       "    .dataframe thead th {\n",
       "        text-align: right;\n",
       "    }\n",
       "</style>\n",
       "<table border=\"1\" class=\"dataframe\">\n",
       "  <thead>\n",
       "    <tr style=\"text-align: right;\">\n",
       "      <th></th>\n",
       "      <th>date</th>\n",
       "      <th>tweet</th>\n",
       "      <th>tweet_length</th>\n",
       "      <th>id</th>\n",
       "      <th>likes</th>\n",
       "      <th>retweets</th>\n",
       "      <th>sentiment</th>\n",
       "    </tr>\n",
       "  </thead>\n",
       "  <tbody>\n",
       "    <tr>\n",
       "      <th>35</th>\n",
       "      <td>2020-11-07</td>\n",
       "      <td>America, I’m honored that you have chosen me t...</td>\n",
       "      <td>140</td>\n",
       "      <td>1325118992785223682</td>\n",
       "      <td>3288759</td>\n",
       "      <td>625707</td>\n",
       "      <td>0.5789</td>\n",
       "    </tr>\n",
       "    <tr>\n",
       "      <th>72</th>\n",
       "      <td>2020-11-04</td>\n",
       "      <td>Keep the faith, guys. We’re gonna win this.</td>\n",
       "      <td>43</td>\n",
       "      <td>1323865811031785472</td>\n",
       "      <td>1970448</td>\n",
       "      <td>191558</td>\n",
       "      <td>0.7650</td>\n",
       "    </tr>\n",
       "    <tr>\n",
       "      <th>752</th>\n",
       "      <td>2020-09-30</td>\n",
       "      <td>Donald Trump is the worst president we've ever...</td>\n",
       "      <td>51</td>\n",
       "      <td>1311120831032909825</td>\n",
       "      <td>1887190</td>\n",
       "      <td>316569</td>\n",
       "      <td>-0.6249</td>\n",
       "    </tr>\n",
       "    <tr>\n",
       "      <th>14</th>\n",
       "      <td>2020-11-09</td>\n",
       "      <td>I won't be president until January 20th, but m...</td>\n",
       "      <td>95</td>\n",
       "      <td>1325890910635384839</td>\n",
       "      <td>1489621</td>\n",
       "      <td>160475</td>\n",
       "      <td>0.0000</td>\n",
       "    </tr>\n",
       "    <tr>\n",
       "      <th>462</th>\n",
       "      <td>2020-10-19</td>\n",
       "      <td>Wear a mask. Wash your hands. Vote out Donald ...</td>\n",
       "      <td>52</td>\n",
       "      <td>1317978773707345920</td>\n",
       "      <td>1332222</td>\n",
       "      <td>218971</td>\n",
       "      <td>0.0000</td>\n",
       "    </tr>\n",
       "    <tr>\n",
       "      <th>460</th>\n",
       "      <td>2020-10-19</td>\n",
       "      <td>...yes https://t.co/RzZ3j3zoAL</td>\n",
       "      <td>30</td>\n",
       "      <td>1318170176660135936</td>\n",
       "      <td>1286543</td>\n",
       "      <td>182321</td>\n",
       "      <td>0.0000</td>\n",
       "    </tr>\n",
       "    <tr>\n",
       "      <th>67</th>\n",
       "      <td>2020-11-04</td>\n",
       "      <td>Count every vote.</td>\n",
       "      <td>17</td>\n",
       "      <td>1324066382846320641</td>\n",
       "      <td>1178751</td>\n",
       "      <td>132951</td>\n",
       "      <td>0.0000</td>\n",
       "    </tr>\n",
       "    <tr>\n",
       "      <th>694</th>\n",
       "      <td>2020-10-03</td>\n",
       "      <td>One month until Election Day. Let’s do this, A...</td>\n",
       "      <td>53</td>\n",
       "      <td>1312460408192724992</td>\n",
       "      <td>1164484</td>\n",
       "      <td>117534</td>\n",
       "      <td>0.0000</td>\n",
       "    </tr>\n",
       "    <tr>\n",
       "      <th>619</th>\n",
       "      <td>2020-10-08</td>\n",
       "      <td>.@KamalaHarris, you made us all proud tonight.</td>\n",
       "      <td>46</td>\n",
       "      <td>1314034535890378752</td>\n",
       "      <td>1103561</td>\n",
       "      <td>94432</td>\n",
       "      <td>0.4767</td>\n",
       "    </tr>\n",
       "    <tr>\n",
       "      <th>36</th>\n",
       "      <td>2020-11-07</td>\n",
       "      <td>We may be opponents — but we are not enemies. ...</td>\n",
       "      <td>65</td>\n",
       "      <td>1324926298762870785</td>\n",
       "      <td>1088270</td>\n",
       "      <td>75138</td>\n",
       "      <td>0.5334</td>\n",
       "    </tr>\n",
       "    <tr>\n",
       "      <th>44</th>\n",
       "      <td>2020-11-06</td>\n",
       "      <td>Keep the faith, folks.</td>\n",
       "      <td>22</td>\n",
       "      <td>1324521884394921985</td>\n",
       "      <td>980219</td>\n",
       "      <td>61431</td>\n",
       "      <td>0.4215</td>\n",
       "    </tr>\n",
       "    <tr>\n",
       "      <th>840</th>\n",
       "      <td>2020-09-20</td>\n",
       "      <td>I’m Joe Biden and I approve this message. http...</td>\n",
       "      <td>65</td>\n",
       "      <td>1307491919384260609</td>\n",
       "      <td>973717</td>\n",
       "      <td>270669</td>\n",
       "      <td>0.0000</td>\n",
       "    </tr>\n",
       "    <tr>\n",
       "      <th>704</th>\n",
       "      <td>2020-10-02</td>\n",
       "      <td>Jill and I send our thoughts to President Trum...</td>\n",
       "      <td>140</td>\n",
       "      <td>1312010736604979201</td>\n",
       "      <td>959348</td>\n",
       "      <td>67054</td>\n",
       "      <td>0.2023</td>\n",
       "    </tr>\n",
       "    <tr>\n",
       "      <th>21</th>\n",
       "      <td>2020-11-08</td>\n",
       "      <td>A nation united.\\n\\nA nation strengthened.\\n\\n...</td>\n",
       "      <td>89</td>\n",
       "      <td>1325259242631274496</td>\n",
       "      <td>939063</td>\n",
       "      <td>70361</td>\n",
       "      <td>0.8126</td>\n",
       "    </tr>\n",
       "    <tr>\n",
       "      <th>52</th>\n",
       "      <td>2020-11-05</td>\n",
       "      <td>Be patient, folks. Votes are being counted, an...</td>\n",
       "      <td>80</td>\n",
       "      <td>1324406121721786369</td>\n",
       "      <td>921386</td>\n",
       "      <td>60566</td>\n",
       "      <td>0.4404</td>\n",
       "    </tr>\n",
       "  </tbody>\n",
       "</table>\n",
       "</div>"
      ],
      "text/plain": [
       "           date                                              tweet  \\\n",
       "35   2020-11-07  America, I’m honored that you have chosen me t...   \n",
       "72   2020-11-04        Keep the faith, guys. We’re gonna win this.   \n",
       "752  2020-09-30  Donald Trump is the worst president we've ever...   \n",
       "14   2020-11-09  I won't be president until January 20th, but m...   \n",
       "462  2020-10-19  Wear a mask. Wash your hands. Vote out Donald ...   \n",
       "460  2020-10-19                     ...yes https://t.co/RzZ3j3zoAL   \n",
       "67   2020-11-04                                  Count every vote.   \n",
       "694  2020-10-03  One month until Election Day. Let’s do this, A...   \n",
       "619  2020-10-08     .@KamalaHarris, you made us all proud tonight.   \n",
       "36   2020-11-07  We may be opponents — but we are not enemies. ...   \n",
       "44   2020-11-06                             Keep the faith, folks.   \n",
       "840  2020-09-20  I’m Joe Biden and I approve this message. http...   \n",
       "704  2020-10-02  Jill and I send our thoughts to President Trum...   \n",
       "21   2020-11-08  A nation united.\\n\\nA nation strengthened.\\n\\n...   \n",
       "52   2020-11-05  Be patient, folks. Votes are being counted, an...   \n",
       "\n",
       "     tweet_length                   id    likes  retweets  sentiment  \n",
       "35            140  1325118992785223682  3288759    625707     0.5789  \n",
       "72             43  1323865811031785472  1970448    191558     0.7650  \n",
       "752            51  1311120831032909825  1887190    316569    -0.6249  \n",
       "14             95  1325890910635384839  1489621    160475     0.0000  \n",
       "462            52  1317978773707345920  1332222    218971     0.0000  \n",
       "460            30  1318170176660135936  1286543    182321     0.0000  \n",
       "67             17  1324066382846320641  1178751    132951     0.0000  \n",
       "694            53  1312460408192724992  1164484    117534     0.0000  \n",
       "619            46  1314034535890378752  1103561     94432     0.4767  \n",
       "36             65  1324926298762870785  1088270     75138     0.5334  \n",
       "44             22  1324521884394921985   980219     61431     0.4215  \n",
       "840            65  1307491919384260609   973717    270669     0.0000  \n",
       "704           140  1312010736604979201   959348     67054     0.2023  \n",
       "21             89  1325259242631274496   939063     70361     0.8126  \n",
       "52             80  1324406121721786369   921386     60566     0.4404  "
      ]
     },
     "execution_count": 32,
     "metadata": {},
     "output_type": "execute_result"
    }
   ],
   "source": [
    "top10_likes = df.sort_values(by='likes', ascending=False).head(15)\n",
    "top10_likes"
   ]
  },
  {
   "cell_type": "code",
   "execution_count": 42,
   "metadata": {},
   "outputs": [
    {
     "data": {
      "text/html": [
       "<div>\n",
       "<style scoped>\n",
       "    .dataframe tbody tr th:only-of-type {\n",
       "        vertical-align: middle;\n",
       "    }\n",
       "\n",
       "    .dataframe tbody tr th {\n",
       "        vertical-align: top;\n",
       "    }\n",
       "\n",
       "    .dataframe thead th {\n",
       "        text-align: right;\n",
       "    }\n",
       "</style>\n",
       "<table border=\"1\" class=\"dataframe\">\n",
       "  <thead>\n",
       "    <tr style=\"text-align: right;\">\n",
       "      <th></th>\n",
       "      <th>date</th>\n",
       "      <th>tweet</th>\n",
       "      <th>tweet_length</th>\n",
       "      <th>id</th>\n",
       "      <th>likes</th>\n",
       "      <th>retweets</th>\n",
       "      <th>sentiment</th>\n",
       "      <th>sent_cat</th>\n",
       "    </tr>\n",
       "  </thead>\n",
       "  <tbody>\n",
       "    <tr>\n",
       "      <th>0</th>\n",
       "      <td>2020-11-12</td>\n",
       "      <td>I extend my deep condolences to the loved ones...</td>\n",
       "      <td>139</td>\n",
       "      <td>1326968002839908353</td>\n",
       "      <td>351008</td>\n",
       "      <td>26642</td>\n",
       "      <td>0.8020</td>\n",
       "      <td>postive</td>\n",
       "    </tr>\n",
       "    <tr>\n",
       "      <th>1</th>\n",
       "      <td>2020-11-12</td>\n",
       "      <td>Because of the Affordable Care Act:\\n\\n- Peopl...</td>\n",
       "      <td>140</td>\n",
       "      <td>1326955421320450049</td>\n",
       "      <td>82659</td>\n",
       "      <td>8509</td>\n",
       "      <td>0.7269</td>\n",
       "      <td>postive</td>\n",
       "    </tr>\n",
       "    <tr>\n",
       "      <th>2</th>\n",
       "      <td>2020-11-12</td>\n",
       "      <td>Ron Klain’s deep, varied experience and capaci...</td>\n",
       "      <td>140</td>\n",
       "      <td>1326696150364286976</td>\n",
       "      <td>202370</td>\n",
       "      <td>16814</td>\n",
       "      <td>0.0000</td>\n",
       "      <td>neutral</td>\n",
       "    </tr>\n",
       "    <tr>\n",
       "      <th>3</th>\n",
       "      <td>2020-11-11</td>\n",
       "      <td>This Veterans Day, I feel the full weight of t...</td>\n",
       "      <td>139</td>\n",
       "      <td>1326638331204038656</td>\n",
       "      <td>282464</td>\n",
       "      <td>19264</td>\n",
       "      <td>0.6124</td>\n",
       "      <td>postive</td>\n",
       "    </tr>\n",
       "    <tr>\n",
       "      <th>4</th>\n",
       "      <td>2020-11-11</td>\n",
       "      <td>Today, we honor the service of those who have ...</td>\n",
       "      <td>140</td>\n",
       "      <td>1326557341697839106</td>\n",
       "      <td>357665</td>\n",
       "      <td>32327</td>\n",
       "      <td>0.5859</td>\n",
       "      <td>postive</td>\n",
       "    </tr>\n",
       "  </tbody>\n",
       "</table>\n",
       "</div>"
      ],
      "text/plain": [
       "         date                                              tweet  \\\n",
       "0  2020-11-12  I extend my deep condolences to the loved ones...   \n",
       "1  2020-11-12  Because of the Affordable Care Act:\\n\\n- Peopl...   \n",
       "2  2020-11-12  Ron Klain’s deep, varied experience and capaci...   \n",
       "3  2020-11-11  This Veterans Day, I feel the full weight of t...   \n",
       "4  2020-11-11  Today, we honor the service of those who have ...   \n",
       "\n",
       "   tweet_length                   id   likes  retweets  sentiment sent_cat  \n",
       "0           139  1326968002839908353  351008     26642     0.8020  postive  \n",
       "1           140  1326955421320450049   82659      8509     0.7269  postive  \n",
       "2           140  1326696150364286976  202370     16814     0.0000  neutral  \n",
       "3           139  1326638331204038656  282464     19264     0.6124  postive  \n",
       "4           140  1326557341697839106  357665     32327     0.5859  postive  "
      ]
     },
     "execution_count": 42,
     "metadata": {},
     "output_type": "execute_result"
    }
   ],
   "source": [
    "df.head()"
   ]
  },
  {
   "cell_type": "code",
   "execution_count": 53,
   "metadata": {},
   "outputs": [],
   "source": [
    "pie_chart = df[['likes','retweets','sentiment', 'sent_cat']]\n",
    "pie_chart.to_csv(\"piechart_biden.csv\")\n",
    "# pie_chart.groupby\n",
    "# pie_chart.set_index(sent_cat)\n",
    "# pie_chart.plot.pie(y='likes', figsize=(11, 6))\n"
   ]
  },
  {
   "cell_type": "code",
   "execution_count": 40,
   "metadata": {},
   "outputs": [],
   "source": [
    "df.to_csv(\"biden.csv\")"
   ]
  },
  {
   "cell_type": "markdown",
   "metadata": {},
   "source": [
    "## Experiments with Dates, 4 year old tweets...so no...."
   ]
  },
  {
   "cell_type": "markdown",
   "metadata": {},
   "source": [
    "__Work under progress__....."
   ]
  },
  {
   "cell_type": "code",
   "execution_count": 25,
   "metadata": {},
   "outputs": [
    {
     "data": {
      "text/html": [
       "<div>\n",
       "<style scoped>\n",
       "    .dataframe tbody tr th:only-of-type {\n",
       "        vertical-align: middle;\n",
       "    }\n",
       "\n",
       "    .dataframe tbody tr th {\n",
       "        vertical-align: top;\n",
       "    }\n",
       "\n",
       "    .dataframe thead th {\n",
       "        text-align: right;\n",
       "    }\n",
       "</style>\n",
       "<table border=\"1\" class=\"dataframe\">\n",
       "  <thead>\n",
       "    <tr style=\"text-align: right;\">\n",
       "      <th></th>\n",
       "      <th>date</th>\n",
       "      <th>tweet_length</th>\n",
       "      <th>id</th>\n",
       "      <th>likes</th>\n",
       "      <th>retweets</th>\n",
       "      <th>sentiment</th>\n",
       "    </tr>\n",
       "  </thead>\n",
       "  <tbody>\n",
       "    <tr>\n",
       "      <th>0</th>\n",
       "      <td>2020-06-20</td>\n",
       "      <td>140.00</td>\n",
       "      <td>1.274477e+18</td>\n",
       "      <td>21307.000000</td>\n",
       "      <td>4743.500000</td>\n",
       "      <td>0.219900</td>\n",
       "    </tr>\n",
       "    <tr>\n",
       "      <th>1</th>\n",
       "      <td>2020-06-21</td>\n",
       "      <td>111.80</td>\n",
       "      <td>1.274699e+18</td>\n",
       "      <td>108452.000000</td>\n",
       "      <td>19346.400000</td>\n",
       "      <td>-0.115620</td>\n",
       "    </tr>\n",
       "    <tr>\n",
       "      <th>2</th>\n",
       "      <td>2020-06-22</td>\n",
       "      <td>140.00</td>\n",
       "      <td>1.275071e+18</td>\n",
       "      <td>56882.571429</td>\n",
       "      <td>11135.857143</td>\n",
       "      <td>0.147829</td>\n",
       "    </tr>\n",
       "    <tr>\n",
       "      <th>3</th>\n",
       "      <td>2020-06-23</td>\n",
       "      <td>130.25</td>\n",
       "      <td>1.275438e+18</td>\n",
       "      <td>55099.125000</td>\n",
       "      <td>11711.500000</td>\n",
       "      <td>0.227175</td>\n",
       "    </tr>\n",
       "    <tr>\n",
       "      <th>4</th>\n",
       "      <td>2020-06-24</td>\n",
       "      <td>120.50</td>\n",
       "      <td>1.275813e+18</td>\n",
       "      <td>59315.875000</td>\n",
       "      <td>12049.500000</td>\n",
       "      <td>0.240837</td>\n",
       "    </tr>\n",
       "  </tbody>\n",
       "</table>\n",
       "</div>"
      ],
      "text/plain": [
       "         date  tweet_length            id          likes      retweets  \\\n",
       "0  2020-06-20        140.00  1.274477e+18   21307.000000   4743.500000   \n",
       "1  2020-06-21        111.80  1.274699e+18  108452.000000  19346.400000   \n",
       "2  2020-06-22        140.00  1.275071e+18   56882.571429  11135.857143   \n",
       "3  2020-06-23        130.25  1.275438e+18   55099.125000  11711.500000   \n",
       "4  2020-06-24        120.50  1.275813e+18   59315.875000  12049.500000   \n",
       "\n",
       "   sentiment  \n",
       "0   0.219900  \n",
       "1  -0.115620  \n",
       "2   0.147829  \n",
       "3   0.227175  \n",
       "4   0.240837  "
      ]
     },
     "execution_count": 25,
     "metadata": {},
     "output_type": "execute_result"
    }
   ],
   "source": [
    "date_df.head()"
   ]
  },
  {
   "cell_type": "code",
   "execution_count": 26,
   "metadata": {},
   "outputs": [
    {
     "data": {
      "text/html": [
       "<div>\n",
       "<style scoped>\n",
       "    .dataframe tbody tr th:only-of-type {\n",
       "        vertical-align: middle;\n",
       "    }\n",
       "\n",
       "    .dataframe tbody tr th {\n",
       "        vertical-align: top;\n",
       "    }\n",
       "\n",
       "    .dataframe thead th {\n",
       "        text-align: right;\n",
       "    }\n",
       "</style>\n",
       "<table border=\"1\" class=\"dataframe\">\n",
       "  <thead>\n",
       "    <tr style=\"text-align: right;\">\n",
       "      <th></th>\n",
       "      <th>date</th>\n",
       "      <th>tweet_length</th>\n",
       "      <th>id</th>\n",
       "      <th>likes</th>\n",
       "      <th>retweets</th>\n",
       "      <th>sentiment</th>\n",
       "    </tr>\n",
       "  </thead>\n",
       "  <tbody>\n",
       "    <tr>\n",
       "      <th>141</th>\n",
       "      <td>2020-11-08</td>\n",
       "      <td>129.400000</td>\n",
       "      <td>1.325255e+18</td>\n",
       "      <td>409552.200000</td>\n",
       "      <td>32503.866667</td>\n",
       "      <td>0.255680</td>\n",
       "    </tr>\n",
       "    <tr>\n",
       "      <th>142</th>\n",
       "      <td>2020-11-09</td>\n",
       "      <td>109.000000</td>\n",
       "      <td>1.325878e+18</td>\n",
       "      <td>476034.428571</td>\n",
       "      <td>39195.142857</td>\n",
       "      <td>-0.006571</td>\n",
       "    </tr>\n",
       "    <tr>\n",
       "      <th>143</th>\n",
       "      <td>2020-11-10</td>\n",
       "      <td>127.666667</td>\n",
       "      <td>1.326265e+18</td>\n",
       "      <td>287264.166667</td>\n",
       "      <td>19588.000000</td>\n",
       "      <td>0.237567</td>\n",
       "    </tr>\n",
       "    <tr>\n",
       "      <th>144</th>\n",
       "      <td>2020-11-11</td>\n",
       "      <td>135.000000</td>\n",
       "      <td>1.326466e+18</td>\n",
       "      <td>314397.750000</td>\n",
       "      <td>22567.000000</td>\n",
       "      <td>0.283475</td>\n",
       "    </tr>\n",
       "    <tr>\n",
       "      <th>145</th>\n",
       "      <td>2020-11-12</td>\n",
       "      <td>139.666667</td>\n",
       "      <td>1.326873e+18</td>\n",
       "      <td>212012.333333</td>\n",
       "      <td>17321.666667</td>\n",
       "      <td>0.509633</td>\n",
       "    </tr>\n",
       "  </tbody>\n",
       "</table>\n",
       "</div>"
      ],
      "text/plain": [
       "           date  tweet_length            id          likes      retweets  \\\n",
       "141  2020-11-08    129.400000  1.325255e+18  409552.200000  32503.866667   \n",
       "142  2020-11-09    109.000000  1.325878e+18  476034.428571  39195.142857   \n",
       "143  2020-11-10    127.666667  1.326265e+18  287264.166667  19588.000000   \n",
       "144  2020-11-11    135.000000  1.326466e+18  314397.750000  22567.000000   \n",
       "145  2020-11-12    139.666667  1.326873e+18  212012.333333  17321.666667   \n",
       "\n",
       "     sentiment  \n",
       "141   0.255680  \n",
       "142  -0.006571  \n",
       "143   0.237567  \n",
       "144   0.283475  \n",
       "145   0.509633  "
      ]
     },
     "execution_count": 26,
     "metadata": {},
     "output_type": "execute_result"
    }
   ],
   "source": [
    "date_df.tail()"
   ]
  },
  {
   "cell_type": "markdown",
   "metadata": {},
   "source": [
    "From the above data we can confirm that Trump tweeted 1785 tweets in last 42 days i.e, from 2020-08-25 to 2020-10-05."
   ]
  },
  {
   "cell_type": "code",
   "execution_count": null,
   "metadata": {},
   "outputs": [],
   "source": []
  },
  {
   "cell_type": "markdown",
   "metadata": {},
   "source": [
    "So we have to get approximately 15000 tweets for last 1 year data. We can also observe that we gor 1700 tweets in 10 pages, for 15K tweets we need 100 pages data"
   ]
  },
  {
   "cell_type": "code",
   "execution_count": 27,
   "metadata": {},
   "outputs": [
    {
     "name": "stdout",
     "output_type": "stream",
     "text": [
      "Number of tweets extracted: 2594.\n"
     ]
    }
   ],
   "source": [
    "exp_tweets = [] #experiment tweets\n",
    "\n",
    "for page in range(1,100):\n",
    "    exp_tweets.extend(api.user_timeline(screen_name = \"realDonaldTrump\", count=200, page=page))\n",
    "    \n",
    "print(\"Number of tweets extracted: {}.\".format(len(exp_tweets)))\n"
   ]
  },
  {
   "cell_type": "code",
   "execution_count": 28,
   "metadata": {},
   "outputs": [
    {
     "ename": "IndexError",
     "evalue": "list index out of range",
     "output_type": "error",
     "traceback": [
      "\u001b[1;31m---------------------------------------------------------------------------\u001b[0m",
      "\u001b[1;31mIndexError\u001b[0m                                Traceback (most recent call last)",
      "\u001b[1;32m<ipython-input-28-845be2d667be>\u001b[0m in \u001b[0;36m<module>\u001b[1;34m\u001b[0m\n\u001b[1;32m----> 1\u001b[1;33m \u001b[0mexp_tweets\u001b[0m\u001b[1;33m[\u001b[0m\u001b[1;36m3229\u001b[0m\u001b[1;33m]\u001b[0m\u001b[1;33m.\u001b[0m\u001b[0mcreated_at\u001b[0m\u001b[1;33m\u001b[0m\u001b[1;33m\u001b[0m\u001b[0m\n\u001b[0m",
      "\u001b[1;31mIndexError\u001b[0m: list index out of range"
     ]
    }
   ],
   "source": [
    "exp_tweets[3229].created_at"
   ]
  },
  {
   "cell_type": "markdown",
   "metadata": {},
   "source": [
    "Obtained tweets till july 4th!!, so basically got only last three months data, this data would be enough to analyze this election."
   ]
  },
  {
   "cell_type": "code",
   "execution_count": null,
   "metadata": {},
   "outputs": [],
   "source": [
    "exp_tweets[3229].created_at"
   ]
  },
  {
   "cell_type": "markdown",
   "metadata": {},
   "source": [
    "But we can get data from others if anyone have done trump and clinton twitter analysis for previous election"
   ]
  },
  {
   "cell_type": "code",
   "execution_count": null,
   "metadata": {},
   "outputs": [],
   "source": []
  }
 ],
 "metadata": {
  "kernelspec": {
   "display_name": "Python 3",
   "language": "python",
   "name": "python3"
  },
  "language_info": {
   "codemirror_mode": {
    "name": "ipython",
    "version": 3
   },
   "file_extension": ".py",
   "mimetype": "text/x-python",
   "name": "python",
   "nbconvert_exporter": "python",
   "pygments_lexer": "ipython3",
<<<<<<< HEAD
   "version": "3.7.9"
=======
   "version": "3.7.3"
>>>>>>> 13215c0a8e533b5eadf3f3af0078228d0bfd173d
  }
 },
 "nbformat": 4,
 "nbformat_minor": 4
}
