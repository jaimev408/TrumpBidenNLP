{
 "cells": [
  {
   "cell_type": "markdown",
   "metadata": {},
   "source": [
    "<h1 style=\"text-align: center;\">Trump vs Biden 2020 Presidential Campaign Twitter Sentiment</h1>"
   ]
  },
  {
   "cell_type": "markdown",
   "metadata": {},
   "source": [
    "## Introduction"
   ]
  },
  {
   "cell_type": "markdown",
   "metadata": {},
   "source": [
    "One of the hottest topics in 2020 was the presidential election between Donald J. Trump and former vice president Joe Biden. This election was full of firsts; It was the first election held during a worldwide pandemic, the first election to have 3 states whose margin of victory was under 1%, and the first incumbent president not to concede. Because of the election's uniqueness and the highly contrasting personalities between the candidates, I decided to analyze the sentiment of each candidate’s tweets to find out how much their social media attitude affected their twitter impressions and their general approval.<br>\n",
    "\n",
    "\n",
    "In the analysis, we mapped the candidate's sentiment in a `time series` as well as measured how popular their most liked and dislike tweets were through retweets and likes. We wanted to see if there was a correlation between negative or positive sentiment and popularity for each candidate.\n",
    "\n",
    "We got the motivation for this topic from an article published by Cambridge University Press titled: “Differences in negativity bias underlie variations in political ideology”.  This article discusses how negative thoughts gain more attention and popularity than positive thoughts do.  Negative thoughts also stay within our memory for a longer period.  This also links to negative bias in politics, which triggered an idea to apply sentiment analysis in politics. The 2020 presidential election was the perfect area to focus this analysis on negative political bias.\n",
    "    TE"
   ]
  },
  {
   "cell_type": "markdown",
   "metadata": {},
   "source": [
    "Note, get general approval data\n",
    "\n",
    "April 25, 2019, Biden"
   ]
  },
  {
   "cell_type": "markdown",
   "metadata": {},
   "source": [
    "Links:\n",
    "\n",
    "https://www.scientificamerican.com/article/the-neuroscience-of-everybody-favorite-topic-themselves/\n",
    "\n",
    "https://www.kaggle.com/rohanrao/joe-biden-tweets\n",
    "\n",
    "https://www.kaggle.com/codebreaker619/donald-trump-tweets-dataset\n",
    "\n",
    "https://www.kaggle.com/amineabouothmane/biden-vs-trump-sentiment-analysis-of-tweets\n",
    "\n",
    "https://www.kaggle.com/ahmedterry/trump-tweets-eda-nlp-sentiments-analysis\n",
    "\n",
    "https://www.kaggle.com/thomaskonstantin/trump-s-insults-time-based-sentiment-analysis"
   ]
  },
  {
   "cell_type": "markdown",
   "metadata": {},
   "source": [
    "## Import Resources"
   ]
  },
  {
   "cell_type": "markdown",
   "metadata": {},
   "source": [
    "### Libraries"
   ]
  },
  {
   "cell_type": "code",
   "execution_count": 167,
   "metadata": {},
   "outputs": [],
   "source": [
    "import tweepy\n",
    "import pandas as pd\n",
    "import numpy as np\n",
    "import matplotlib.pyplot as plt\n",
    "import pickle\n",
    "from textblob import TextBlob\n",
    "import datetime\n",
    "import re"
   ]
  },
  {
   "cell_type": "markdown",
   "metadata": {},
   "source": [
    "### Data"
   ]
  },
  {
   "cell_type": "code",
   "execution_count": 3,
   "metadata": {},
   "outputs": [],
   "source": [
    "# dont run these \n",
    "# AccessToken = '1325166553-AaLqrAHSEzFQg0KOQPrfL5B46EiOuvw3bWV7FUb'\n",
    "# AccessTokenSecret = 'ahA6V1c7wQoByveazFsq1dcf2YrqccUqbmlPuWCNUJ8Yo'\n",
    "# API_key = 'BtsZY4DuRx6D6WuYRmyRKc5gr'\n",
    "# API_key_secret = 'hcqxqk31EzMpKMcRvNdQKDzpGVmsShVlfpX3k1vDXR6zzbIwuJ'\n",
    "\n",
    "# auth = tweepy.OAuthHandler(API_key,API_key_secret)\n",
    "# auth.set_access_token(AccessToken, AccessTokenSecret)\n",
    "# api = tweepy.API(auth)\n",
    "\n",
    "# user = api.me()\n",
    "# print(user.name)"
   ]
  },
  {
   "cell_type": "code",
   "execution_count": 4,
   "metadata": {},
   "outputs": [],
   "source": [
    "#tweets = []\n",
    "\n",
    "#for page in range(1,10):\n",
    "#   tweets.extend(api.user_timeline(screen_name = \"realDonaldTrump\", count=200, page=page))\n",
    "    \n",
    "#print(\"Number of tweets extracted: {}.\".format(len(tweets)))\n"
   ]
  },
  {
   "cell_type": "markdown",
   "metadata": {},
   "source": [
    "## Proof of Concept Work for Trump Twitter Analysis for Small Dataset of 1785 tweets"
   ]
  },
  {
   "cell_type": "code",
   "execution_count": 6,
   "metadata": {},
   "outputs": [],
   "source": [
    "#with open('trump_tweets.pkl', 'wb') as f:\n",
    "#    pickle.dump(tweets, f)"
   ]
  },
  {
   "cell_type": "markdown",
   "metadata": {},
   "source": [
    "## Read Data"
   ]
  },
  {
   "cell_type": "code",
   "execution_count": 102,
   "metadata": {},
   "outputs": [
    {
     "name": "stdout",
     "output_type": "stream",
     "text": [
      "These states in question should immediately be put in the Trump Win column. Biden did not win, he lost by a lot!… https://t.co/w7y0zDaYdL\n",
      "Big legal win in Pennsylvania!\n",
      "RT @realDonaldTrump: STOP THE COUNT!\n",
      "Jobless Claims Dip to 751,000, Lowest Since March https://t.co/dzuJpS78nb via @BreitbartNews\n",
      "Fmr NV AG Laxalt: ‘No Question‘ Trump Would Have Won Nevada ‘Convincingly‘ Without Mail-in Voting https://t.co/pm4Wpfr6x0 via @BreitbartNews\n"
     ]
    }
   ],
   "source": [
    "file = open('./Data/trump_tweets.pkl','rb')\n",
    "tweets = pickle.load(file)\n",
    "for tweet in tweets[:5]:\n",
    "    print(tweet.text)"
   ]
  },
  {
   "cell_type": "code",
   "execution_count": 65,
   "metadata": {},
   "outputs": [],
   "source": [
    "own_tweets = [tweet for tweet in tweets if not hasattr(tweet, 'retweeted_status')]"
   ]
  },
  {
   "cell_type": "code",
   "execution_count": 66,
   "metadata": {},
   "outputs": [
    {
     "data": {
      "text/plain": [
       "datetime.datetime(2020, 11, 13, 4, 17, 46)"
      ]
     },
     "execution_count": 66,
     "metadata": {},
     "output_type": "execute_result"
    }
   ],
   "source": [
    "own_tweets[0].created_at"
   ]
  },
  {
   "cell_type": "code",
   "execution_count": 67,
   "metadata": {},
   "outputs": [
    {
     "data": {
      "text/plain": [
       "'These states in question should immediately be put in the Trump Win column. Biden did not win, he lost by a lot!… https://t.co/w7y0zDaYdL'"
      ]
     },
     "execution_count": 67,
     "metadata": {},
     "output_type": "execute_result"
    }
   ],
   "source": [
    "own_tweets[0].text"
   ]
  },
  {
   "cell_type": "code",
   "execution_count": 105,
   "metadata": {},
   "outputs": [
    {
     "data": {
      "text/plain": [
       "71415"
      ]
     },
     "execution_count": 105,
     "metadata": {},
     "output_type": "execute_result"
    }
   ],
   "source": [
    "own_tweets[0].favorite_count"
   ]
  },
  {
   "cell_type": "markdown",
   "metadata": {},
   "source": [
    "https://developer.twitter.com/en/docs/twitter-api/v1/data-dictionary/object-model/tweet"
   ]
  },
  {
   "cell_type": "code",
   "execution_count": 89,
   "metadata": {},
   "outputs": [
    {
     "data": {
      "text/plain": [
       "dict_keys(['_json', 'created_at', 'id', 'id_str', 'text', 'truncated', 'entities', 'source', 'source_url', 'in_reply_to_status_id', 'in_reply_to_status_id_str', 'in_reply_to_user_id', 'in_reply_to_user_id_str', 'in_reply_to_screen_name', 'author', 'user', 'geo', 'coordinates', 'place', 'contributors', 'is_quote_status', 'quoted_status_id', 'quoted_status_id_str', 'quoted_status', 'retweet_count', 'favorite_count', 'favorited', 'retweeted', 'possibly_sensitive', 'lang'])"
      ]
     },
     "execution_count": 89,
     "metadata": {},
     "output_type": "execute_result"
    }
   ],
   "source": [
    "own_tweets[0].__dict__.keys()"
   ]
  },
  {
   "cell_type": "markdown",
   "metadata": {},
   "source": [
    "## Make DataFrame"
   ]
  },
  {
   "cell_type": "code",
   "execution_count": 127,
   "metadata": {},
   "outputs": [],
   "source": [
    "dfTrump = pd.DataFrame(data = [[tweet.id, tweet.created_at, tweet.text, tweet.favorite_count, tweet.retweet_count] for tweet in own_tweets],\n",
    "                 columns= ['id', 'date', 'tweet', 'likes', 'retweets'])"
   ]
  },
  {
   "cell_type": "code",
   "execution_count": 129,
   "metadata": {},
   "outputs": [
    {
     "data": {
      "text/html": [
       "<div>\n",
       "<style scoped>\n",
       "    .dataframe tbody tr th:only-of-type {\n",
       "        vertical-align: middle;\n",
       "    }\n",
       "\n",
       "    .dataframe tbody tr th {\n",
       "        vertical-align: top;\n",
       "    }\n",
       "\n",
       "    .dataframe thead th {\n",
       "        text-align: right;\n",
       "    }\n",
       "</style>\n",
       "<table border=\"1\" class=\"dataframe\">\n",
       "  <thead>\n",
       "    <tr style=\"text-align: right;\">\n",
       "      <th></th>\n",
       "      <th>id</th>\n",
       "      <th>date</th>\n",
       "      <th>tweet</th>\n",
       "      <th>likes</th>\n",
       "      <th>retweets</th>\n",
       "    </tr>\n",
       "  </thead>\n",
       "  <tbody>\n",
       "    <tr>\n",
       "      <th>1419</th>\n",
       "      <td>1300170576515026945</td>\n",
       "      <td>2020-08-30 20:36:36</td>\n",
       "      <td>Ted Wheeler, the wacky Radical Left Do Nothing...</td>\n",
       "      <td>119662</td>\n",
       "      <td>31042</td>\n",
       "    </tr>\n",
       "    <tr>\n",
       "      <th>1420</th>\n",
       "      <td>1300041598449917953</td>\n",
       "      <td>2020-08-30 12:04:05</td>\n",
       "      <td>LAW &amp;amp; ORDER!!!</td>\n",
       "      <td>327643</td>\n",
       "      <td>58602</td>\n",
       "    </tr>\n",
       "    <tr>\n",
       "      <th>1421</th>\n",
       "      <td>1300038510687260673</td>\n",
       "      <td>2020-08-30 11:51:49</td>\n",
       "      <td>.@DNI_Ratcliffe on @MariaBartiromo this mornin...</td>\n",
       "      <td>44241</td>\n",
       "      <td>8599</td>\n",
       "    </tr>\n",
       "    <tr>\n",
       "      <th>1422</th>\n",
       "      <td>1300037695729737733</td>\n",
       "      <td>2020-08-30 11:48:34</td>\n",
       "      <td>Moving along nicely. MAGA! https://t.co/xNchR7...</td>\n",
       "      <td>64511</td>\n",
       "      <td>15949</td>\n",
       "    </tr>\n",
       "    <tr>\n",
       "      <th>1423</th>\n",
       "      <td>1300035375751221249</td>\n",
       "      <td>2020-08-30 11:39:21</td>\n",
       "      <td>Michael knows!!! https://t.co/QNuj5Y1PZc</td>\n",
       "      <td>36278</td>\n",
       "      <td>8390</td>\n",
       "    </tr>\n",
       "  </tbody>\n",
       "</table>\n",
       "</div>"
      ],
      "text/plain": [
       "                       id                date  \\\n",
       "1419  1300170576515026945 2020-08-30 20:36:36   \n",
       "1420  1300041598449917953 2020-08-30 12:04:05   \n",
       "1421  1300038510687260673 2020-08-30 11:51:49   \n",
       "1422  1300037695729737733 2020-08-30 11:48:34   \n",
       "1423  1300035375751221249 2020-08-30 11:39:21   \n",
       "\n",
       "                                                  tweet   likes  retweets  \n",
       "1419  Ted Wheeler, the wacky Radical Left Do Nothing...  119662     31042  \n",
       "1420                                 LAW &amp; ORDER!!!  327643     58602  \n",
       "1421  .@DNI_Ratcliffe on @MariaBartiromo this mornin...   44241      8599  \n",
       "1422  Moving along nicely. MAGA! https://t.co/xNchR7...   64511     15949  \n",
       "1423           Michael knows!!! https://t.co/QNuj5Y1PZc   36278      8390  "
      ]
     },
     "execution_count": 129,
     "metadata": {},
     "output_type": "execute_result"
    }
   ],
   "source": [
    "dfTrump.tail()"
   ]
  },
  {
   "cell_type": "code",
   "execution_count": 130,
   "metadata": {},
   "outputs": [
    {
     "data": {
      "text/plain": [
       "(1424, 5)"
      ]
     },
     "execution_count": 130,
     "metadata": {},
     "output_type": "execute_result"
    }
   ],
   "source": [
    "dfTrump.shape"
   ]
  },
  {
   "cell_type": "code",
   "execution_count": 131,
   "metadata": {},
   "outputs": [
    {
     "data": {
      "text/html": [
       "<div>\n",
       "<style scoped>\n",
       "    .dataframe tbody tr th:only-of-type {\n",
       "        vertical-align: middle;\n",
       "    }\n",
       "\n",
       "    .dataframe tbody tr th {\n",
       "        vertical-align: top;\n",
       "    }\n",
       "\n",
       "    .dataframe thead th {\n",
       "        text-align: right;\n",
       "    }\n",
       "</style>\n",
       "<table border=\"1\" class=\"dataframe\">\n",
       "  <thead>\n",
       "    <tr style=\"text-align: right;\">\n",
       "      <th></th>\n",
       "      <th>id</th>\n",
       "      <th>date</th>\n",
       "      <th>tweet</th>\n",
       "      <th>likes</th>\n",
       "      <th>retweets</th>\n",
       "    </tr>\n",
       "  </thead>\n",
       "  <tbody>\n",
       "    <tr>\n",
       "      <th>662</th>\n",
       "      <td>1311892190680014849</td>\n",
       "      <td>2020-10-02 04:54:06</td>\n",
       "      <td>Tonight, @FLOTUS and I tested positive for COV...</td>\n",
       "      <td>1857405</td>\n",
       "      <td>406444</td>\n",
       "    </tr>\n",
       "  </tbody>\n",
       "</table>\n",
       "</div>"
      ],
      "text/plain": [
       "                      id                date  \\\n",
       "662  1311892190680014849 2020-10-02 04:54:06   \n",
       "\n",
       "                                                 tweet    likes  retweets  \n",
       "662  Tonight, @FLOTUS and I tested positive for COV...  1857405    406444  "
      ]
     },
     "execution_count": 131,
     "metadata": {},
     "output_type": "execute_result"
    }
   ],
   "source": [
    "dfTrump[dfTrump['likes']==dfTrump['likes'].max()]"
   ]
  },
  {
   "cell_type": "code",
   "execution_count": 132,
   "metadata": {},
   "outputs": [
    {
     "data": {
      "text/plain": [
       "count    1.424000e+03\n",
       "mean     1.033555e+05\n",
       "std      1.113561e+05\n",
       "min      0.000000e+00\n",
       "25%      4.561525e+04\n",
       "50%      7.091950e+04\n",
       "75%      1.246875e+05\n",
       "max      1.857405e+06\n",
       "Name: likes, dtype: float64"
      ]
     },
     "execution_count": 132,
     "metadata": {},
     "output_type": "execute_result"
    }
   ],
   "source": [
    "dfTrump['likes'].describe()"
   ]
  },
  {
   "cell_type": "markdown",
   "metadata": {},
   "source": [
    "###  Old Twitter Data"
   ]
  },
  {
   "cell_type": "code",
   "execution_count": 218,
   "metadata": {},
   "outputs": [],
   "source": [
    "trumpOld = pd.read_csv(\"./Data/TrumpOld.csv\")\n",
    "#bidenOld = pd.read_csv(\"./Data/BidenOld.csv\")"
   ]
  },
  {
   "cell_type": "code",
   "execution_count": 219,
   "metadata": {},
   "outputs": [
    {
     "name": "stdout",
     "output_type": "stream",
     "text": [
      "['id', 'text', 'isRetweet', 'isDeleted', 'device', 'favorites', 'retweets', 'date', 'isFlagged']\n"
     ]
    }
   ],
   "source": [
    "print([column for column in trumpOld.columns])"
   ]
  },
  {
   "cell_type": "code",
   "execution_count": 220,
   "metadata": {},
   "outputs": [],
   "source": [
    "trumpOld = trumpOld.loc[trumpOld.isRetweet == \"f\" , [\"id\", \"date\", \"text\", \"favorites\", \"retweets\"]]\n",
    "trumpOld.columns = [\"id\", \"date\", 'tweet', 'likes', 'retweets']\n",
    "trumpOld.date = pd.to_datetime(trumpOld.date, infer_datetime_format=True)\n",
    "trumpOld = trumpOld[trumpOld.date >=pd.to_datetime('2019-04-25',  infer_datetime_format=True)]"
   ]
  },
  {
   "cell_type": "code",
   "execution_count": 221,
   "metadata": {},
   "outputs": [
    {
     "data": {
      "text/html": [
       "<div>\n",
       "<style scoped>\n",
       "    .dataframe tbody tr th:only-of-type {\n",
       "        vertical-align: middle;\n",
       "    }\n",
       "\n",
       "    .dataframe tbody tr th {\n",
       "        vertical-align: top;\n",
       "    }\n",
       "\n",
       "    .dataframe thead th {\n",
       "        text-align: right;\n",
       "    }\n",
       "</style>\n",
       "<table border=\"1\" class=\"dataframe\">\n",
       "  <thead>\n",
       "    <tr style=\"text-align: right;\">\n",
       "      <th></th>\n",
       "      <th>id</th>\n",
       "      <th>date</th>\n",
       "      <th>tweet</th>\n",
       "      <th>likes</th>\n",
       "      <th>retweets</th>\n",
       "    </tr>\n",
       "  </thead>\n",
       "  <tbody>\n",
       "    <tr>\n",
       "      <th>37742</th>\n",
       "      <td>1.121380e+18</td>\n",
       "      <td>2019-04-25 11:47:00</td>\n",
       "      <td>As has been incorrectly reported by the Fake N...</td>\n",
       "      <td>81100</td>\n",
       "      <td>17408</td>\n",
       "    </tr>\n",
       "    <tr>\n",
       "      <th>37743</th>\n",
       "      <td>1.121380e+18</td>\n",
       "      <td>2019-04-25 11:57:00</td>\n",
       "      <td>....Mueller was NOT fired and was respectfully...</td>\n",
       "      <td>101952</td>\n",
       "      <td>21498</td>\n",
       "    </tr>\n",
       "    <tr>\n",
       "      <th>37744</th>\n",
       "      <td>1.121390e+18</td>\n",
       "      <td>2019-04-25 12:09:00</td>\n",
       "      <td>.....Despite the fact that the Mueller Report ...</td>\n",
       "      <td>68720</td>\n",
       "      <td>14482</td>\n",
       "    </tr>\n",
       "    <tr>\n",
       "      <th>37745</th>\n",
       "      <td>1.121390e+18</td>\n",
       "      <td>2019-04-25 12:22:00</td>\n",
       "      <td>Welcome to the race Sleepy Joe. I only hope yo...</td>\n",
       "      <td>144614</td>\n",
       "      <td>27915</td>\n",
       "    </tr>\n",
       "    <tr>\n",
       "      <th>37758</th>\n",
       "      <td>1.121420e+18</td>\n",
       "      <td>2019-04-25 14:35:00</td>\n",
       "      <td>I will be interviewed by @seanhannity tonight ...</td>\n",
       "      <td>58322</td>\n",
       "      <td>12895</td>\n",
       "    </tr>\n",
       "  </tbody>\n",
       "</table>\n",
       "</div>"
      ],
      "text/plain": [
       "                 id                date  \\\n",
       "37742  1.121380e+18 2019-04-25 11:47:00   \n",
       "37743  1.121380e+18 2019-04-25 11:57:00   \n",
       "37744  1.121390e+18 2019-04-25 12:09:00   \n",
       "37745  1.121390e+18 2019-04-25 12:22:00   \n",
       "37758  1.121420e+18 2019-04-25 14:35:00   \n",
       "\n",
       "                                                   tweet   likes  retweets  \n",
       "37742  As has been incorrectly reported by the Fake N...   81100     17408  \n",
       "37743  ....Mueller was NOT fired and was respectfully...  101952     21498  \n",
       "37744  .....Despite the fact that the Mueller Report ...   68720     14482  \n",
       "37745  Welcome to the race Sleepy Joe. I only hope yo...  144614     27915  \n",
       "37758  I will be interviewed by @seanhannity tonight ...   58322     12895  "
      ]
     },
     "execution_count": 221,
     "metadata": {},
     "output_type": "execute_result"
    }
   ],
   "source": [
    "trumpOld.head()"
   ]
  },
  {
   "cell_type": "code",
   "execution_count": 222,
   "metadata": {},
   "outputs": [
    {
     "data": {
      "text/plain": [
       "(7484, 5)"
      ]
     },
     "execution_count": 222,
     "metadata": {},
     "output_type": "execute_result"
    }
   ],
   "source": [
    "trumpOld.shape"
   ]
  },
  {
   "cell_type": "markdown",
   "metadata": {},
   "source": [
    "### Join datasets"
   ]
  },
  {
   "cell_type": "code",
   "execution_count": 224,
   "metadata": {},
   "outputs": [
    {
     "name": "stdout",
     "output_type": "stream",
     "text": [
      "(8908, 5)\n"
     ]
    },
    {
     "data": {
      "text/html": [
       "<div>\n",
       "<style scoped>\n",
       "    .dataframe tbody tr th:only-of-type {\n",
       "        vertical-align: middle;\n",
       "    }\n",
       "\n",
       "    .dataframe tbody tr th {\n",
       "        vertical-align: top;\n",
       "    }\n",
       "\n",
       "    .dataframe thead th {\n",
       "        text-align: right;\n",
       "    }\n",
       "</style>\n",
       "<table border=\"1\" class=\"dataframe\">\n",
       "  <thead>\n",
       "    <tr style=\"text-align: right;\">\n",
       "      <th></th>\n",
       "      <th>id</th>\n",
       "      <th>date</th>\n",
       "      <th>tweet</th>\n",
       "      <th>likes</th>\n",
       "      <th>retweets</th>\n",
       "    </tr>\n",
       "  </thead>\n",
       "  <tbody>\n",
       "    <tr>\n",
       "      <th>37742</th>\n",
       "      <td>1.121380e+18</td>\n",
       "      <td>2019-04-25 11:47:00</td>\n",
       "      <td>As has been incorrectly reported by the Fake N...</td>\n",
       "      <td>81100</td>\n",
       "      <td>17408</td>\n",
       "    </tr>\n",
       "    <tr>\n",
       "      <th>37743</th>\n",
       "      <td>1.121380e+18</td>\n",
       "      <td>2019-04-25 11:57:00</td>\n",
       "      <td>....Mueller was NOT fired and was respectfully...</td>\n",
       "      <td>101952</td>\n",
       "      <td>21498</td>\n",
       "    </tr>\n",
       "    <tr>\n",
       "      <th>37744</th>\n",
       "      <td>1.121390e+18</td>\n",
       "      <td>2019-04-25 12:09:00</td>\n",
       "      <td>.....Despite the fact that the Mueller Report ...</td>\n",
       "      <td>68720</td>\n",
       "      <td>14482</td>\n",
       "    </tr>\n",
       "    <tr>\n",
       "      <th>37745</th>\n",
       "      <td>1.121390e+18</td>\n",
       "      <td>2019-04-25 12:22:00</td>\n",
       "      <td>Welcome to the race Sleepy Joe. I only hope yo...</td>\n",
       "      <td>144614</td>\n",
       "      <td>27915</td>\n",
       "    </tr>\n",
       "    <tr>\n",
       "      <th>37758</th>\n",
       "      <td>1.121420e+18</td>\n",
       "      <td>2019-04-25 14:35:00</td>\n",
       "      <td>I will be interviewed by @seanhannity tonight ...</td>\n",
       "      <td>58322</td>\n",
       "      <td>12895</td>\n",
       "    </tr>\n",
       "  </tbody>\n",
       "</table>\n",
       "</div>"
      ],
      "text/plain": [
       "                 id                date  \\\n",
       "37742  1.121380e+18 2019-04-25 11:47:00   \n",
       "37743  1.121380e+18 2019-04-25 11:57:00   \n",
       "37744  1.121390e+18 2019-04-25 12:09:00   \n",
       "37745  1.121390e+18 2019-04-25 12:22:00   \n",
       "37758  1.121420e+18 2019-04-25 14:35:00   \n",
       "\n",
       "                                                   tweet   likes  retweets  \n",
       "37742  As has been incorrectly reported by the Fake N...   81100     17408  \n",
       "37743  ....Mueller was NOT fired and was respectfully...  101952     21498  \n",
       "37744  .....Despite the fact that the Mueller Report ...   68720     14482  \n",
       "37745  Welcome to the race Sleepy Joe. I only hope yo...  144614     27915  \n",
       "37758  I will be interviewed by @seanhannity tonight ...   58322     12895  "
      ]
     },
     "execution_count": 224,
     "metadata": {},
     "output_type": "execute_result"
    }
   ],
   "source": [
    "TrumpFinal = trumpOld.append(dfTrump)\n",
    "print(TrumpFinal.shape)\n",
    "TrumpFinal.head()"
   ]
  },
  {
   "cell_type": "markdown",
   "metadata": {},
   "source": [
    "## Test TextBlob"
   ]
  },
  {
   "cell_type": "code",
   "execution_count": 225,
   "metadata": {},
   "outputs": [
    {
     "data": {
      "text/plain": [
       "0.0"
      ]
     },
     "execution_count": 225,
     "metadata": {},
     "output_type": "execute_result"
    }
   ],
   "source": [
    "a = TextBlob(\"Wear your mask\")\n",
    "a.sentiment.polarity"
   ]
  },
  {
   "cell_type": "markdown",
   "metadata": {},
   "source": [
    "## Add Sentiment and Subjectivity Columns"
   ]
  },
  {
   "cell_type": "markdown",
   "metadata": {},
   "source": [
    "Adds sentiment and subjectivity\n",
    "\n",
    "Sentiment is how positive or negative a sentence is\n",
    "\n",
    "Sujectivity is how much of an opinion or fact a sentence is (0 is opinion, 1 is fact)"
   ]
  },
  {
   "cell_type": "code",
   "execution_count": 226,
   "metadata": {},
   "outputs": [
    {
     "name": "stdout",
     "output_type": "stream",
     "text": [
      "(8908, 7)\n"
     ]
    },
    {
     "data": {
      "text/html": [
       "<div>\n",
       "<style scoped>\n",
       "    .dataframe tbody tr th:only-of-type {\n",
       "        vertical-align: middle;\n",
       "    }\n",
       "\n",
       "    .dataframe tbody tr th {\n",
       "        vertical-align: top;\n",
       "    }\n",
       "\n",
       "    .dataframe thead th {\n",
       "        text-align: right;\n",
       "    }\n",
       "</style>\n",
       "<table border=\"1\" class=\"dataframe\">\n",
       "  <thead>\n",
       "    <tr style=\"text-align: right;\">\n",
       "      <th></th>\n",
       "      <th>id</th>\n",
       "      <th>date</th>\n",
       "      <th>tweet</th>\n",
       "      <th>likes</th>\n",
       "      <th>retweets</th>\n",
       "      <th>sentiment</th>\n",
       "      <th>subjectivity</th>\n",
       "    </tr>\n",
       "  </thead>\n",
       "  <tbody>\n",
       "    <tr>\n",
       "      <th>37742</th>\n",
       "      <td>1.121380e+18</td>\n",
       "      <td>2019-04-25 11:47:00</td>\n",
       "      <td>As has been incorrectly reported by the Fake N...</td>\n",
       "      <td>81100</td>\n",
       "      <td>17408</td>\n",
       "      <td>-0.003571</td>\n",
       "      <td>0.433929</td>\n",
       "    </tr>\n",
       "    <tr>\n",
       "      <th>37743</th>\n",
       "      <td>1.121380e+18</td>\n",
       "      <td>2019-04-25 11:57:00</td>\n",
       "      <td>....Mueller was NOT fired and was respectfully...</td>\n",
       "      <td>101952</td>\n",
       "      <td>21498</td>\n",
       "      <td>-0.030500</td>\n",
       "      <td>0.648000</td>\n",
       "    </tr>\n",
       "    <tr>\n",
       "      <th>37744</th>\n",
       "      <td>1.121390e+18</td>\n",
       "      <td>2019-04-25 12:09:00</td>\n",
       "      <td>.....Despite the fact that the Mueller Report ...</td>\n",
       "      <td>68720</td>\n",
       "      <td>14482</td>\n",
       "      <td>0.083333</td>\n",
       "      <td>0.666667</td>\n",
       "    </tr>\n",
       "    <tr>\n",
       "      <th>37745</th>\n",
       "      <td>1.121390e+18</td>\n",
       "      <td>2019-04-25 12:22:00</td>\n",
       "      <td>Welcome to the race Sleepy Joe. I only hope yo...</td>\n",
       "      <td>144614</td>\n",
       "      <td>27915</td>\n",
       "      <td>-0.003571</td>\n",
       "      <td>0.731250</td>\n",
       "    </tr>\n",
       "    <tr>\n",
       "      <th>37758</th>\n",
       "      <td>1.121420e+18</td>\n",
       "      <td>2019-04-25 14:35:00</td>\n",
       "      <td>I will be interviewed by @seanhannity tonight ...</td>\n",
       "      <td>58322</td>\n",
       "      <td>12895</td>\n",
       "      <td>0.500000</td>\n",
       "      <td>0.500000</td>\n",
       "    </tr>\n",
       "  </tbody>\n",
       "</table>\n",
       "</div>"
      ],
      "text/plain": [
       "                 id                date  \\\n",
       "37742  1.121380e+18 2019-04-25 11:47:00   \n",
       "37743  1.121380e+18 2019-04-25 11:57:00   \n",
       "37744  1.121390e+18 2019-04-25 12:09:00   \n",
       "37745  1.121390e+18 2019-04-25 12:22:00   \n",
       "37758  1.121420e+18 2019-04-25 14:35:00   \n",
       "\n",
       "                                                   tweet   likes  retweets  \\\n",
       "37742  As has been incorrectly reported by the Fake N...   81100     17408   \n",
       "37743  ....Mueller was NOT fired and was respectfully...  101952     21498   \n",
       "37744  .....Despite the fact that the Mueller Report ...   68720     14482   \n",
       "37745  Welcome to the race Sleepy Joe. I only hope yo...  144614     27915   \n",
       "37758  I will be interviewed by @seanhannity tonight ...   58322     12895   \n",
       "\n",
       "       sentiment  subjectivity  \n",
       "37742  -0.003571      0.433929  \n",
       "37743  -0.030500      0.648000  \n",
       "37744   0.083333      0.666667  \n",
       "37745  -0.003571      0.731250  \n",
       "37758   0.500000      0.500000  "
      ]
     },
     "execution_count": 226,
     "metadata": {},
     "output_type": "execute_result"
    }
   ],
   "source": [
    "TrumpFinal['sentiment'] = TrumpFinal['tweet'].apply(lambda tweet: TextBlob(tweet).sentiment.polarity)\n",
    "TrumpFinal['subjectivity'] = TrumpFinal['tweet'].apply(lambda tweet: TextBlob(tweet).sentiment.subjectivity)\n",
    "print(TrumpFinal.shape)\n",
    "TrumpFinal.head()\n"
   ]
  },
  {
   "cell_type": "markdown",
   "metadata": {},
   "source": [
    "## Remove Retweet Links"
   ]
  },
  {
   "cell_type": "markdown",
   "metadata": {},
   "source": [
    "We use regex to remove any links embedded on Trump's tweets, as some tweets are just a link or retweet of someone else, leading to useless data that skews our calculations, or messes with the NLP functions"
   ]
  },
  {
   "cell_type": "code",
   "execution_count": 227,
   "metadata": {},
   "outputs": [],
   "source": [
    "#Test regex\n",
    "#re.sub('(https.+[ ])|(https.+)', '', \"HELLO https://t.co/AWC0HLAgJD HELLO\")"
   ]
  },
  {
   "cell_type": "code",
   "execution_count": 228,
   "metadata": {},
   "outputs": [],
   "source": [
    "TrumpFinal['tweet'] = TrumpFinal['tweet'].apply(lambda tweet: re.sub('(https.+[ ])|(https.+)', '', tweet))"
   ]
  },
  {
   "cell_type": "code",
   "execution_count": 229,
   "metadata": {},
   "outputs": [],
   "source": [
    "TrumpFinal = TrumpFinal[TrumpFinal['tweet'] != \"\"]"
   ]
  },
  {
   "cell_type": "code",
   "execution_count": 230,
   "metadata": {},
   "outputs": [
    {
     "name": "stdout",
     "output_type": "stream",
     "text": [
      "(7979, 7)\n"
     ]
    },
    {
     "data": {
      "text/html": [
       "<div>\n",
       "<style scoped>\n",
       "    .dataframe tbody tr th:only-of-type {\n",
       "        vertical-align: middle;\n",
       "    }\n",
       "\n",
       "    .dataframe tbody tr th {\n",
       "        vertical-align: top;\n",
       "    }\n",
       "\n",
       "    .dataframe thead th {\n",
       "        text-align: right;\n",
       "    }\n",
       "</style>\n",
       "<table border=\"1\" class=\"dataframe\">\n",
       "  <thead>\n",
       "    <tr style=\"text-align: right;\">\n",
       "      <th></th>\n",
       "      <th>id</th>\n",
       "      <th>date</th>\n",
       "      <th>tweet</th>\n",
       "      <th>likes</th>\n",
       "      <th>retweets</th>\n",
       "      <th>sentiment</th>\n",
       "      <th>subjectivity</th>\n",
       "    </tr>\n",
       "  </thead>\n",
       "  <tbody>\n",
       "    <tr>\n",
       "      <th>37742</th>\n",
       "      <td>1.121380e+18</td>\n",
       "      <td>2019-04-25 11:47:00</td>\n",
       "      <td>As has been incorrectly reported by the Fake N...</td>\n",
       "      <td>81100</td>\n",
       "      <td>17408</td>\n",
       "      <td>-0.003571</td>\n",
       "      <td>0.433929</td>\n",
       "    </tr>\n",
       "    <tr>\n",
       "      <th>37743</th>\n",
       "      <td>1.121380e+18</td>\n",
       "      <td>2019-04-25 11:57:00</td>\n",
       "      <td>....Mueller was NOT fired and was respectfully...</td>\n",
       "      <td>101952</td>\n",
       "      <td>21498</td>\n",
       "      <td>-0.030500</td>\n",
       "      <td>0.648000</td>\n",
       "    </tr>\n",
       "    <tr>\n",
       "      <th>37744</th>\n",
       "      <td>1.121390e+18</td>\n",
       "      <td>2019-04-25 12:09:00</td>\n",
       "      <td>.....Despite the fact that the Mueller Report ...</td>\n",
       "      <td>68720</td>\n",
       "      <td>14482</td>\n",
       "      <td>0.083333</td>\n",
       "      <td>0.666667</td>\n",
       "    </tr>\n",
       "    <tr>\n",
       "      <th>37745</th>\n",
       "      <td>1.121390e+18</td>\n",
       "      <td>2019-04-25 12:22:00</td>\n",
       "      <td>Welcome to the race Sleepy Joe. I only hope yo...</td>\n",
       "      <td>144614</td>\n",
       "      <td>27915</td>\n",
       "      <td>-0.003571</td>\n",
       "      <td>0.731250</td>\n",
       "    </tr>\n",
       "    <tr>\n",
       "      <th>37758</th>\n",
       "      <td>1.121420e+18</td>\n",
       "      <td>2019-04-25 14:35:00</td>\n",
       "      <td>I will be interviewed by @seanhannity tonight ...</td>\n",
       "      <td>58322</td>\n",
       "      <td>12895</td>\n",
       "      <td>0.500000</td>\n",
       "      <td>0.500000</td>\n",
       "    </tr>\n",
       "  </tbody>\n",
       "</table>\n",
       "</div>"
      ],
      "text/plain": [
       "                 id                date  \\\n",
       "37742  1.121380e+18 2019-04-25 11:47:00   \n",
       "37743  1.121380e+18 2019-04-25 11:57:00   \n",
       "37744  1.121390e+18 2019-04-25 12:09:00   \n",
       "37745  1.121390e+18 2019-04-25 12:22:00   \n",
       "37758  1.121420e+18 2019-04-25 14:35:00   \n",
       "\n",
       "                                                   tweet   likes  retweets  \\\n",
       "37742  As has been incorrectly reported by the Fake N...   81100     17408   \n",
       "37743  ....Mueller was NOT fired and was respectfully...  101952     21498   \n",
       "37744  .....Despite the fact that the Mueller Report ...   68720     14482   \n",
       "37745  Welcome to the race Sleepy Joe. I only hope yo...  144614     27915   \n",
       "37758  I will be interviewed by @seanhannity tonight ...   58322     12895   \n",
       "\n",
       "       sentiment  subjectivity  \n",
       "37742  -0.003571      0.433929  \n",
       "37743  -0.030500      0.648000  \n",
       "37744   0.083333      0.666667  \n",
       "37745  -0.003571      0.731250  \n",
       "37758   0.500000      0.500000  "
      ]
     },
     "execution_count": 230,
     "metadata": {},
     "output_type": "execute_result"
    }
   ],
   "source": [
    "print(TrumpFinal.shape)\n",
    "TrumpFinal.head()"
   ]
  },
  {
   "cell_type": "code",
   "execution_count": 248,
   "metadata": {},
   "outputs": [
    {
     "name": "stdout",
     "output_type": "stream",
     "text": [
      "1885\n",
      "4413\n"
     ]
    }
   ],
   "source": [
    "print(len(TrumpFinal[TrumpFinal.sentiment < 0]))\n",
    "print(len(TrumpFinal[TrumpFinal.sentiment > 0]))"
   ]
  },
  {
   "cell_type": "markdown",
   "metadata": {},
   "source": [
    "## Get only most Popular and Least Subjective Tweets"
   ]
  },
  {
   "cell_type": "markdown",
   "metadata": {},
   "source": [
    "Since we only care about determining popularity based on sentiment, we'll only use the 75th percentile of tweets based on likes. Since Trump likes talking about himself and patting himself on the back, we'll only use tweets with a subjectivity level of 70% or below, as we believe that tweets were he is highly focusing on his personal opinion of himself should be neutral rather than a \"positive\" or \"negative\" tweet, but are skewed as being positive with the NLP library we're using."
   ]
  },
  {
   "cell_type": "code",
   "execution_count": 260,
   "metadata": {},
   "outputs": [
    {
     "name": "stdout",
     "output_type": "stream",
     "text": [
      "(4044, 7)\n"
     ]
    },
    {
     "data": {
      "text/html": [
       "<div>\n",
       "<style scoped>\n",
       "    .dataframe tbody tr th:only-of-type {\n",
       "        vertical-align: middle;\n",
       "    }\n",
       "\n",
       "    .dataframe tbody tr th {\n",
       "        vertical-align: top;\n",
       "    }\n",
       "\n",
       "    .dataframe thead th {\n",
       "        text-align: right;\n",
       "    }\n",
       "</style>\n",
       "<table border=\"1\" class=\"dataframe\">\n",
       "  <thead>\n",
       "    <tr style=\"text-align: right;\">\n",
       "      <th></th>\n",
       "      <th>id</th>\n",
       "      <th>date</th>\n",
       "      <th>tweet</th>\n",
       "      <th>likes</th>\n",
       "      <th>retweets</th>\n",
       "      <th>sentiment</th>\n",
       "      <th>subjectivity</th>\n",
       "    </tr>\n",
       "  </thead>\n",
       "  <tbody>\n",
       "    <tr>\n",
       "      <th>37742</th>\n",
       "      <td>1.121380e+18</td>\n",
       "      <td>2019-04-25 11:47:00</td>\n",
       "      <td>As has been incorrectly reported by the Fake N...</td>\n",
       "      <td>81100</td>\n",
       "      <td>17408</td>\n",
       "      <td>-0.003571</td>\n",
       "      <td>0.433929</td>\n",
       "    </tr>\n",
       "    <tr>\n",
       "      <th>37743</th>\n",
       "      <td>1.121380e+18</td>\n",
       "      <td>2019-04-25 11:57:00</td>\n",
       "      <td>....Mueller was NOT fired and was respectfully...</td>\n",
       "      <td>101952</td>\n",
       "      <td>21498</td>\n",
       "      <td>-0.030500</td>\n",
       "      <td>0.648000</td>\n",
       "    </tr>\n",
       "    <tr>\n",
       "      <th>37745</th>\n",
       "      <td>1.121390e+18</td>\n",
       "      <td>2019-04-25 12:22:00</td>\n",
       "      <td>Welcome to the race Sleepy Joe. I only hope yo...</td>\n",
       "      <td>144614</td>\n",
       "      <td>27915</td>\n",
       "      <td>-0.003571</td>\n",
       "      <td>0.731250</td>\n",
       "    </tr>\n",
       "    <tr>\n",
       "      <th>37761</th>\n",
       "      <td>1.121480e+18</td>\n",
       "      <td>2019-04-25 18:09:00</td>\n",
       "      <td>Our Border Control Agents have done an incredi...</td>\n",
       "      <td>78651</td>\n",
       "      <td>18162</td>\n",
       "      <td>0.670833</td>\n",
       "      <td>0.720833</td>\n",
       "    </tr>\n",
       "    <tr>\n",
       "      <th>37762</th>\n",
       "      <td>1.121480e+18</td>\n",
       "      <td>2019-04-25 18:11:00</td>\n",
       "      <td>Thank you! #MAGA🇺🇸</td>\n",
       "      <td>88332</td>\n",
       "      <td>18144</td>\n",
       "      <td>0.000000</td>\n",
       "      <td>0.000000</td>\n",
       "    </tr>\n",
       "  </tbody>\n",
       "</table>\n",
       "</div>"
      ],
      "text/plain": [
       "                 id                date  \\\n",
       "37742  1.121380e+18 2019-04-25 11:47:00   \n",
       "37743  1.121380e+18 2019-04-25 11:57:00   \n",
       "37745  1.121390e+18 2019-04-25 12:22:00   \n",
       "37761  1.121480e+18 2019-04-25 18:09:00   \n",
       "37762  1.121480e+18 2019-04-25 18:11:00   \n",
       "\n",
       "                                                   tweet   likes  retweets  \\\n",
       "37742  As has been incorrectly reported by the Fake N...   81100     17408   \n",
       "37743  ....Mueller was NOT fired and was respectfully...  101952     21498   \n",
       "37745  Welcome to the race Sleepy Joe. I only hope yo...  144614     27915   \n",
       "37761  Our Border Control Agents have done an incredi...   78651     18162   \n",
       "37762                                Thank you! #MAGA🇺🇸    88332     18144   \n",
       "\n",
       "       sentiment  subjectivity  \n",
       "37742  -0.003571      0.433929  \n",
       "37743  -0.030500      0.648000  \n",
       "37745  -0.003571      0.731250  \n",
       "37761   0.670833      0.720833  \n",
       "37762   0.000000      0.000000  "
      ]
     },
     "execution_count": 260,
     "metadata": {},
     "output_type": "execute_result"
    }
   ],
   "source": [
    "dfMostLiked = TrumpFinal[TrumpFinal['likes'] >=np.percentile(df.likes, 50)]\n",
    "#dfMostLiked = dfMostLiked[dfMostLiked['subjectivity'] <= 0.7]\n",
    "print(dfMostLiked.shape)\n",
    "dfMostLiked.head()"
   ]
  },
  {
   "cell_type": "code",
   "execution_count": 261,
   "metadata": {},
   "outputs": [
    {
     "name": "stdout",
     "output_type": "stream",
     "text": [
      "1866\n",
      "2178\n"
     ]
    }
   ],
   "source": [
    "print(len(dfMostLiked[dfMostLiked.sentiment <= 0]))\n",
    "print(len(dfMostLiked[dfMostLiked.sentiment > 0]))"
   ]
  },
  {
   "cell_type": "markdown",
   "metadata": {},
   "source": [
    "Since each tweet has an equal weight when determining the days's sentiment polarity, we will round all negative polarity tweets to -1 and all positive polarity tweets to 1, then take the average per day to determine how a day's sentiment is calucalted"
   ]
  },
  {
   "cell_type": "code",
   "execution_count": 238,
   "metadata": {},
   "outputs": [
    {
     "ename": "AttributeError",
     "evalue": "'Series' object has no attribute 'datetime'",
     "output_type": "error",
     "traceback": [
      "\u001b[1;31m---------------------------------------------------------------------------\u001b[0m",
      "\u001b[1;31mAttributeError\u001b[0m                            Traceback (most recent call last)",
      "\u001b[1;32m<ipython-input-238-a1cd480763af>\u001b[0m in \u001b[0;36m<module>\u001b[1;34m\u001b[0m\n\u001b[1;32m----> 1\u001b[1;33m \u001b[0mdfMostLiked\u001b[0m\u001b[1;33m.\u001b[0m\u001b[0mdate\u001b[0m\u001b[1;33m.\u001b[0m\u001b[0mdatetime\u001b[0m\u001b[1;33m.\u001b[0m\u001b[0mfloor\u001b[0m\u001b[1;33m\u001b[0m\u001b[1;33m\u001b[0m\u001b[0m\n\u001b[0m",
      "\u001b[1;32mC:\\ProgramData\\Anaconda3\\lib\\site-packages\\pandas\\core\\generic.py\u001b[0m in \u001b[0;36m__getattr__\u001b[1;34m(self, name)\u001b[0m\n\u001b[0;32m   5134\u001b[0m             \u001b[1;32mif\u001b[0m \u001b[0mself\u001b[0m\u001b[1;33m.\u001b[0m\u001b[0m_info_axis\u001b[0m\u001b[1;33m.\u001b[0m\u001b[0m_can_hold_identifiers_and_holds_name\u001b[0m\u001b[1;33m(\u001b[0m\u001b[0mname\u001b[0m\u001b[1;33m)\u001b[0m\u001b[1;33m:\u001b[0m\u001b[1;33m\u001b[0m\u001b[1;33m\u001b[0m\u001b[0m\n\u001b[0;32m   5135\u001b[0m                 \u001b[1;32mreturn\u001b[0m \u001b[0mself\u001b[0m\u001b[1;33m[\u001b[0m\u001b[0mname\u001b[0m\u001b[1;33m]\u001b[0m\u001b[1;33m\u001b[0m\u001b[1;33m\u001b[0m\u001b[0m\n\u001b[1;32m-> 5136\u001b[1;33m             \u001b[1;32mreturn\u001b[0m \u001b[0mobject\u001b[0m\u001b[1;33m.\u001b[0m\u001b[0m__getattribute__\u001b[0m\u001b[1;33m(\u001b[0m\u001b[0mself\u001b[0m\u001b[1;33m,\u001b[0m \u001b[0mname\u001b[0m\u001b[1;33m)\u001b[0m\u001b[1;33m\u001b[0m\u001b[1;33m\u001b[0m\u001b[0m\n\u001b[0m\u001b[0;32m   5137\u001b[0m \u001b[1;33m\u001b[0m\u001b[0m\n\u001b[0;32m   5138\u001b[0m     \u001b[1;32mdef\u001b[0m \u001b[0m__setattr__\u001b[0m\u001b[1;33m(\u001b[0m\u001b[0mself\u001b[0m\u001b[1;33m,\u001b[0m \u001b[0mname\u001b[0m\u001b[1;33m:\u001b[0m \u001b[0mstr\u001b[0m\u001b[1;33m,\u001b[0m \u001b[0mvalue\u001b[0m\u001b[1;33m)\u001b[0m \u001b[1;33m->\u001b[0m \u001b[1;32mNone\u001b[0m\u001b[1;33m:\u001b[0m\u001b[1;33m\u001b[0m\u001b[1;33m\u001b[0m\u001b[0m\n",
      "\u001b[1;31mAttributeError\u001b[0m: 'Series' object has no attribute 'datetime'"
     ]
    }
   ],
   "source": [
    "dfMostLiked.date.datetime.floor"
   ]
  },
  {
   "cell_type": "code",
   "execution_count": 245,
   "metadata": {},
   "outputs": [
    {
     "data": {
      "text/plain": [
       "Text(0.5, 1.0, 'Daily Average Sentiment')"
      ]
     },
     "execution_count": 245,
     "metadata": {},
     "output_type": "execute_result"
    },
    {
     "data": {
      "image/png": "[encoded data removed]",
      "text/plain": [
       "<Figure size 1440x720 with 1 Axes>"
      ]
     },
     "metadata": {
      "needs_background": "light"
     },
     "output_type": "display_data"
    }
   ],
   "source": [
    "df_date_counts = TrumpFinal.groupby([pd.Grouper(key='date', freq='W-MON')]).mean().reset_index()\n",
    "df_date_counts.plot(kind= 'line', x ='date', y = 'sentiment', figsize = (20,10), ylim = (-1.5,1.5))\n",
    "plt.axhline(y=0, color = 'black')\n",
    "plt.ylabel('Average Sentiment')\n",
    "plt.title('Daily Average Sentiment')"
   ]
  },
  {
   "cell_type": "code",
   "execution_count": 510,
   "metadata": {},
   "outputs": [
    {
     "data": {
      "text/plain": [
       "Text(0.5, 1.0, 'Daily Average Sentiment')"
      ]
     },
     "execution_count": 510,
     "metadata": {},
     "output_type": "execute_result"
    },
    {
     "data": {
      "image/png": "[encoded data removed]",
      "text/plain": [
       "<Figure size 1440x720 with 1 Axes>"
      ]
     },
     "metadata": {},
     "output_type": "display_data"
    }
   ],
   "source": [
    "df_date = dfMostLiked.copy()\n",
    "df_date.loc[df_date['sentiment'] < 0, 'sentiment'] = -1\n",
    "df_date.loc[df_date['sentiment'] > 0, 'sentiment'] = 1\n",
    "df_date_counts = df_date.groupby(['date']).mean().reset_index()\n",
    "df_date_counts.plot(kind= 'line', x ='date', y = 'sentiment', figsize = (20,10), ylim = (-1.5,1.5))\n",
    "plt.axhline(y=0, color = 'black')\n",
    "plt.ylabel('Average Sentiment')\n",
    "plt.title('Daily Average Sentiment')"
   ]
  },
  {
   "cell_type": "code",
   "execution_count": 511,
   "metadata": {},
   "outputs": [
    {
     "data": {
      "text/plain": [
       "16.0"
      ]
     },
     "execution_count": 511,
     "metadata": {},
     "output_type": "execute_result"
    }
   ],
   "source": [
    "df_date = dfMostLiked.copy()\n",
    "df_date.loc[df_date['sentiment'] < 0, 'sentiment'] = -1\n",
    "df_date.loc[df_date['sentiment'] > 0, 'sentiment'] = 1\n",
    "df_date['sentiment'].sum()"
   ]
  },
  {
   "cell_type": "code",
   "execution_count": null,
   "metadata": {},
   "outputs": [],
   "source": []
  },
  {
   "cell_type": "code",
   "execution_count": null,
   "metadata": {},
   "outputs": [],
   "source": []
  },
  {
   "cell_type": "code",
   "execution_count": null,
   "metadata": {},
   "outputs": [],
   "source": []
  },
  {
   "cell_type": "code",
   "execution_count": null,
   "metadata": {},
   "outputs": [],
   "source": []
  },
  {
   "cell_type": "code",
   "execution_count": null,
   "metadata": {},
   "outputs": [],
   "source": []
  },
  {
   "cell_type": "code",
   "execution_count": null,
   "metadata": {},
   "outputs": [],
   "source": []
  }
 ],
 "metadata": {
  "kernelspec": {
   "display_name": "Python 3",
   "language": "python",
   "name": "python3"
  },
  "language_info": {
   "codemirror_mode": {
    "name": "ipython",
    "version": 3
   },
   "file_extension": ".py",
   "mimetype": "text/x-python",
   "name": "python",
   "nbconvert_exporter": "python",
   "pygments_lexer": "ipython3",
   "version": "3.7.9"
  }
 },
 "nbformat": 4,
 "nbformat_minor": 4
}
