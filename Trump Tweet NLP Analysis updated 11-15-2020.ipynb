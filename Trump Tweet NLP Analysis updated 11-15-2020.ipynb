{
 "cells": [
  {
   "cell_type": "markdown",
   "metadata": {},
   "source": [
    "<h1 style=\"text-align: center;\">Trump vs Biden 2020 Presidential Campaign Twitter Sentiment</h1>"
   ]
  },
  {
   "cell_type": "markdown",
   "metadata": {},
   "source": [
    "## Introduction"
   ]
  },
  {
   "cell_type": "markdown",
   "metadata": {},
   "source": [
    "One of the hottest topics in 2020 was the presidential election between Donald J. Trump and former vice president Joe Biden. This election was full of firsts; It was the first election held during a worldwide pandemic, the first election to have 3 states whose margin of victory was under 1%, and the first incumbent president not to concede. Because of the election's uniqueness and the highly contrasting personalities between the candidates, I decided to analyze the sentiment of each candidate’s tweets to find out how much their social media attitude affected their twitter impressions and their general approval.<br>\n",
    "\n",
    "\n",
    "In the analysis, we mapped the candidate's sentiment in a `time series` as well as measured how popular their most liked and dislike tweets were through retweets and likes. We wanted to see if there was a correlation between negative or positive sentiment and popularity for each candidate.\n",
    "\n",
    "We got the motivation for this topic from an article published by Cambridge University Press titled: “Differences in negativity bias underlie variations in political ideology”.  This article discusses how negative thoughts gain more attention and popularity than positive thoughts do.  Negative thoughts also stay within our memory for a longer period.  This also links to negative bias in politics, which triggered an idea to apply sentiment analysis in politics. The 2020 presidential election was the perfect area to focus this analysis on negative political bias.\n",
    "    "
   ]
  },
  {
   "cell_type": "markdown",
   "metadata": {},
   "source": [
    "Note, get general approval data\n",
    "\n",
    "April 25, 2019, Biden"
   ]
  },
  {
   "cell_type": "markdown",
   "metadata": {},
   "source": [
    "Links:\n",
    "\n",
    "https://www.scientificamerican.com/article/the-neuroscience-of-everybody-favorite-topic-themselves/\n",
    "\n",
    "https://www.kaggle.com/rohanrao/joe-biden-tweets\n",
    "\n",
    "https://www.kaggle.com/markhhuang/complete-trump-tweets\n",
    "\n",
    "https://www.kaggle.com/amineabouothmane/biden-vs-trump-sentiment-analysis-of-tweets\n",
    "\n",
    "https://www.kaggle.com/ahmedterry/trump-tweets-eda-nlp-sentiments-analysis\n",
    "\n",
    "https://www.kaggle.com/thomaskonstantin/trump-s-insults-time-based-sentiment-analysis"
   ]
  },
  {
   "cell_type": "markdown",
   "metadata": {},
   "source": [
    "## Import Resources"
   ]
  },
  {
   "cell_type": "markdown",
   "metadata": {},
   "source": [
    "### Libraries"
   ]
  },
  {
   "cell_type": "code",
   "execution_count": 480,
   "metadata": {},
   "outputs": [
    {
     "name": "stderr",
     "output_type": "stream",
     "text": [
      "[nltk_data] Downloading package vader_lexicon to\n",
      "[nltk_data]     C:\\Users\\lalin\\AppData\\Roaming\\nltk_data...\n",
      "[nltk_data]   Package vader_lexicon is already up-to-date!\n"
     ]
    }
   ],
   "source": [
    "import tweepy\n",
    "import pandas as pd\n",
    "import numpy as np\n",
    "import matplotlib.pyplot as plt\n",
    "import pickle\n",
    "from textblob import TextBlob\n",
    "import re\n",
    "nltk.downloader.download('vader_lexicon')\n",
    "plt.style.use('fivethirtyeight')"
   ]
  },
  {
   "cell_type": "markdown",
   "metadata": {},
   "source": [
    "### Data"
   ]
  },
  {
   "cell_type": "code",
   "execution_count": null,
   "metadata": {},
   "outputs": [],
   "source": [
    "trumpOld = pd.read_csv(\".\")"
   ]
  },
  {
   "cell_type": "code",
   "execution_count": 3,
   "metadata": {},
   "outputs": [],
   "source": [
    "# dont run these \n",
    "# AccessToken = '1325166553-AaLqrAHSEzFQg0KOQPrfL5B46EiOuvw3bWV7FUb'\n",
    "# AccessTokenSecret = 'ahA6V1c7wQoByveazFsq1dcf2YrqccUqbmlPuWCNUJ8Yo'\n",
    "# API_key = 'BtsZY4DuRx6D6WuYRmyRKc5gr'\n",
    "# API_key_secret = 'hcqxqk31EzMpKMcRvNdQKDzpGVmsShVlfpX3k1vDXR6zzbIwuJ'\n",
    "\n",
    "# auth = tweepy.OAuthHandler(API_key,API_key_secret)\n",
    "# auth.set_access_token(AccessToken, AccessTokenSecret)\n",
    "# api = tweepy.API(auth)\n",
    "\n",
    "# user = api.me()\n",
    "# print(user.name)"
   ]
  },
  {
   "cell_type": "code",
   "execution_count": 4,
   "metadata": {},
   "outputs": [],
   "source": [
    "#tweets = []\n",
    "\n",
    "#for page in range(1,10):\n",
    "#   tweets.extend(api.user_timeline(screen_name = \"realDonaldTrump\", count=200, page=page))\n",
    "    \n",
    "#print(\"Number of tweets extracted: {}.\".format(len(tweets)))\n"
   ]
  },
  {
   "cell_type": "markdown",
   "metadata": {},
   "source": [
    "## Proof of Concept Work for Trump Twitter Analysis for Small Dataset of 1785 tweets"
   ]
  },
  {
   "cell_type": "code",
   "execution_count": 6,
   "metadata": {},
   "outputs": [],
   "source": [
    "#with open('trump_tweets.pkl', 'wb') as f:\n",
    "#    pickle.dump(tweets, f)"
   ]
  },
  {
   "cell_type": "markdown",
   "metadata": {},
   "source": [
    "## Read Data"
   ]
  },
  {
   "cell_type": "code",
   "execution_count": 481,
   "metadata": {},
   "outputs": [
    {
     "name": "stdout",
     "output_type": "stream",
     "text": [
      "THE FAKE NEWS MEDIA IS THE REAL OPPOSITION PARTY!\n",
      "Undecided Voters at Concast Town Hall Previously Told Network They Were Voting Biden...https://t.co/NDaiFaxmmU\n",
      "RT @LawEnforceToday: We've never before formally endorsed a candidate.  Today, that changes.  Law Enforcement Today proudly endorses Donald…\n",
      "NOW THAT THE RADICAL LEFT DEMOCRATS GOT CAUGHT COLD IN THE (NON) FRIENDLY TRANSFER OF GOVERNMENT, IN FACT, THEY SPI… https://t.co/xIzvcHZYI6\n",
      "She is far further left than Crazy Bernie. Biden would not last a month! https://t.co/kJWITxYRV1\n"
     ]
    }
   ],
   "source": [
    "file = open('trump_tweets.pkl','rb')\n",
    "tweets = pickle.load(file)\n",
    "for tweet in tweets[:5]:\n",
    "    print(tweet.text)\n",
    "    "
   ]
  },
  {
   "cell_type": "code",
   "execution_count": 482,
   "metadata": {},
   "outputs": [],
   "source": [
    "own_tweets = [tweet for tweet in tweets if tweet.retweeted == False and \"RT @\" not in tweet.text]\n",
    "\n"
   ]
  },
  {
   "cell_type": "code",
   "execution_count": 483,
   "metadata": {},
   "outputs": [
    {
     "data": {
      "text/plain": [
       "datetime.datetime(2020, 10, 7, 15, 25, 38)"
      ]
     },
     "execution_count": 483,
     "metadata": {},
     "output_type": "execute_result"
    }
   ],
   "source": [
    "own_tweets[0].created_at"
   ]
  },
  {
   "cell_type": "code",
   "execution_count": 484,
   "metadata": {},
   "outputs": [
    {
     "data": {
      "text/plain": [
       "'THE FAKE NEWS MEDIA IS THE REAL OPPOSITION PARTY!'"
      ]
     },
     "execution_count": 484,
     "metadata": {},
     "output_type": "execute_result"
    }
   ],
   "source": [
    "own_tweets[0].text"
   ]
  },
  {
   "cell_type": "code",
   "execution_count": 485,
   "metadata": {},
   "outputs": [
    {
     "data": {
      "text/plain": [
       "108262"
      ]
     },
     "execution_count": 485,
     "metadata": {},
     "output_type": "execute_result"
    }
   ],
   "source": [
    "own_tweets[0].favorite_count"
   ]
  },
  {
   "cell_type": "markdown",
   "metadata": {},
   "source": [
    "## Make DataFrame"
   ]
  },
  {
   "cell_type": "code",
   "execution_count": 486,
   "metadata": {},
   "outputs": [],
   "source": [
    "df = pd.DataFrame(data = [[tweet.created_at, tweet.text, len(tweet.text), tweet.id, tweet.favorite_count, tweet.retweet_count] for tweet in own_tweets],\n",
    "                 columns= ['date','tweet', 'tweet_length', 'id', 'likes', 'retweets'])"
   ]
  },
  {
   "cell_type": "code",
   "execution_count": 487,
   "metadata": {},
   "outputs": [
    {
     "data": {
      "text/html": [
       "<div>\n",
       "<style scoped>\n",
       "    .dataframe tbody tr th:only-of-type {\n",
       "        vertical-align: middle;\n",
       "    }\n",
       "\n",
       "    .dataframe tbody tr th {\n",
       "        vertical-align: top;\n",
       "    }\n",
       "\n",
       "    .dataframe thead th {\n",
       "        text-align: right;\n",
       "    }\n",
       "</style>\n",
       "<table border=\"1\" class=\"dataframe\">\n",
       "  <thead>\n",
       "    <tr style=\"text-align: right;\">\n",
       "      <th></th>\n",
       "      <th>date</th>\n",
       "      <th>tweet</th>\n",
       "      <th>tweet_length</th>\n",
       "      <th>id</th>\n",
       "      <th>likes</th>\n",
       "      <th>retweets</th>\n",
       "    </tr>\n",
       "  </thead>\n",
       "  <tbody>\n",
       "    <tr>\n",
       "      <th>0</th>\n",
       "      <td>2020-10-07 15:25:38</td>\n",
       "      <td>THE FAKE NEWS MEDIA IS THE REAL OPPOSITION PARTY!</td>\n",
       "      <td>49</td>\n",
       "      <td>1313863059019051009</td>\n",
       "      <td>108262</td>\n",
       "      <td>24790</td>\n",
       "    </tr>\n",
       "    <tr>\n",
       "      <th>1</th>\n",
       "      <td>2020-10-07 15:20:03</td>\n",
       "      <td>Undecided Voters at Concast Town Hall Previous...</td>\n",
       "      <td>110</td>\n",
       "      <td>1313861656766820352</td>\n",
       "      <td>23402</td>\n",
       "      <td>7872</td>\n",
       "    </tr>\n",
       "    <tr>\n",
       "      <th>2</th>\n",
       "      <td>2020-10-07 14:51:29</td>\n",
       "      <td>NOW THAT THE RADICAL LEFT DEMOCRATS GOT CAUGHT...</td>\n",
       "      <td>140</td>\n",
       "      <td>1313854465276080128</td>\n",
       "      <td>59299</td>\n",
       "      <td>18392</td>\n",
       "    </tr>\n",
       "    <tr>\n",
       "      <th>3</th>\n",
       "      <td>2020-10-07 14:33:40</td>\n",
       "      <td>She is far further left than Crazy Bernie. Bid...</td>\n",
       "      <td>96</td>\n",
       "      <td>1313849980906614785</td>\n",
       "      <td>36196</td>\n",
       "      <td>10290</td>\n",
       "    </tr>\n",
       "    <tr>\n",
       "      <th>4</th>\n",
       "      <td>2020-10-07 14:26:43</td>\n",
       "      <td>Ari, THE MEDIA IS CORRUPT, JUST LIKE OUR DEMOC...</td>\n",
       "      <td>140</td>\n",
       "      <td>1313848232716521473</td>\n",
       "      <td>35715</td>\n",
       "      <td>11741</td>\n",
       "    </tr>\n",
       "  </tbody>\n",
       "</table>\n",
       "</div>"
      ],
      "text/plain": [
       "                 date                                              tweet  \\\n",
       "0 2020-10-07 15:25:38  THE FAKE NEWS MEDIA IS THE REAL OPPOSITION PARTY!   \n",
       "1 2020-10-07 15:20:03  Undecided Voters at Concast Town Hall Previous...   \n",
       "2 2020-10-07 14:51:29  NOW THAT THE RADICAL LEFT DEMOCRATS GOT CAUGHT...   \n",
       "3 2020-10-07 14:33:40  She is far further left than Crazy Bernie. Bid...   \n",
       "4 2020-10-07 14:26:43  Ari, THE MEDIA IS CORRUPT, JUST LIKE OUR DEMOC...   \n",
       "\n",
       "   tweet_length                   id   likes  retweets  \n",
       "0            49  1313863059019051009  108262     24790  \n",
       "1           110  1313861656766820352   23402      7872  \n",
       "2           140  1313854465276080128   59299     18392  \n",
       "3            96  1313849980906614785   36196     10290  \n",
       "4           140  1313848232716521473   35715     11741  "
      ]
     },
     "execution_count": 487,
     "metadata": {},
     "output_type": "execute_result"
    }
   ],
   "source": [
    "df.head()"
   ]
  },
  {
   "cell_type": "code",
   "execution_count": 488,
   "metadata": {},
   "outputs": [
    {
     "data": {
      "text/html": [
       "<div>\n",
       "<style scoped>\n",
       "    .dataframe tbody tr th:only-of-type {\n",
       "        vertical-align: middle;\n",
       "    }\n",
       "\n",
       "    .dataframe tbody tr th {\n",
       "        vertical-align: top;\n",
       "    }\n",
       "\n",
       "    .dataframe thead th {\n",
       "        text-align: right;\n",
       "    }\n",
       "</style>\n",
       "<table border=\"1\" class=\"dataframe\">\n",
       "  <thead>\n",
       "    <tr style=\"text-align: right;\">\n",
       "      <th></th>\n",
       "      <th>date</th>\n",
       "      <th>tweet</th>\n",
       "      <th>tweet_length</th>\n",
       "      <th>id</th>\n",
       "      <th>likes</th>\n",
       "      <th>retweets</th>\n",
       "    </tr>\n",
       "  </thead>\n",
       "  <tbody>\n",
       "    <tr>\n",
       "      <th>941</th>\n",
       "      <td>2020-08-27 23:54:20</td>\n",
       "      <td>Democrats Hate that I called for Big Pharma to...</td>\n",
       "      <td>140</td>\n",
       "      <td>1299133174564491265</td>\n",
       "      <td>164854</td>\n",
       "      <td>35347</td>\n",
       "    </tr>\n",
       "    <tr>\n",
       "      <th>942</th>\n",
       "      <td>2020-08-27 23:18:41</td>\n",
       "      <td>Democrats and Biden didn’t even mention the An...</td>\n",
       "      <td>140</td>\n",
       "      <td>1299124203552210951</td>\n",
       "      <td>125146</td>\n",
       "      <td>30987</td>\n",
       "    </tr>\n",
       "    <tr>\n",
       "      <th>943</th>\n",
       "      <td>2020-08-27 23:07:39</td>\n",
       "      <td>The Ten Most Dangerous Cities in the U.S. are ...</td>\n",
       "      <td>101</td>\n",
       "      <td>1299121427879276544</td>\n",
       "      <td>286172</td>\n",
       "      <td>66380</td>\n",
       "    </tr>\n",
       "    <tr>\n",
       "      <th>944</th>\n",
       "      <td>2020-08-27 19:44:59</td>\n",
       "      <td>https://t.co/AWC0HLAgJD</td>\n",
       "      <td>23</td>\n",
       "      <td>1299070423838138369</td>\n",
       "      <td>51897</td>\n",
       "      <td>11972</td>\n",
       "    </tr>\n",
       "    <tr>\n",
       "      <th>945</th>\n",
       "      <td>2020-08-27 03:27:34</td>\n",
       "      <td>https://t.co/Bk68pgSU5D</td>\n",
       "      <td>23</td>\n",
       "      <td>1298824449966452737</td>\n",
       "      <td>56915</td>\n",
       "      <td>12295</td>\n",
       "    </tr>\n",
       "  </tbody>\n",
       "</table>\n",
       "</div>"
      ],
      "text/plain": [
       "                   date                                              tweet  \\\n",
       "941 2020-08-27 23:54:20  Democrats Hate that I called for Big Pharma to...   \n",
       "942 2020-08-27 23:18:41  Democrats and Biden didn’t even mention the An...   \n",
       "943 2020-08-27 23:07:39  The Ten Most Dangerous Cities in the U.S. are ...   \n",
       "944 2020-08-27 19:44:59                            https://t.co/AWC0HLAgJD   \n",
       "945 2020-08-27 03:27:34                            https://t.co/Bk68pgSU5D   \n",
       "\n",
       "     tweet_length                   id   likes  retweets  \n",
       "941           140  1299133174564491265  164854     35347  \n",
       "942           140  1299124203552210951  125146     30987  \n",
       "943           101  1299121427879276544  286172     66380  \n",
       "944            23  1299070423838138369   51897     11972  \n",
       "945            23  1298824449966452737   56915     12295  "
      ]
     },
     "execution_count": 488,
     "metadata": {},
     "output_type": "execute_result"
    }
   ],
   "source": [
    " df.tail()"
   ]
  },
  {
   "cell_type": "code",
   "execution_count": 489,
   "metadata": {},
   "outputs": [
    {
     "data": {
      "text/html": [
       "<div>\n",
       "<style scoped>\n",
       "    .dataframe tbody tr th:only-of-type {\n",
       "        vertical-align: middle;\n",
       "    }\n",
       "\n",
       "    .dataframe tbody tr th {\n",
       "        vertical-align: top;\n",
       "    }\n",
       "\n",
       "    .dataframe thead th {\n",
       "        text-align: right;\n",
       "    }\n",
       "</style>\n",
       "<table border=\"1\" class=\"dataframe\">\n",
       "  <thead>\n",
       "    <tr style=\"text-align: right;\">\n",
       "      <th></th>\n",
       "      <th>date</th>\n",
       "      <th>tweet</th>\n",
       "      <th>tweet_length</th>\n",
       "      <th>id</th>\n",
       "      <th>likes</th>\n",
       "      <th>retweets</th>\n",
       "    </tr>\n",
       "  </thead>\n",
       "  <tbody>\n",
       "    <tr>\n",
       "      <th>99</th>\n",
       "      <td>2020-10-02 04:54:06</td>\n",
       "      <td>Tonight, @FLOTUS and I tested positive for COV...</td>\n",
       "      <td>140</td>\n",
       "      <td>1311892190680014849</td>\n",
       "      <td>1885685</td>\n",
       "      <td>415997</td>\n",
       "    </tr>\n",
       "  </tbody>\n",
       "</table>\n",
       "</div>"
      ],
      "text/plain": [
       "                  date                                              tweet  \\\n",
       "99 2020-10-02 04:54:06  Tonight, @FLOTUS and I tested positive for COV...   \n",
       "\n",
       "    tweet_length                   id    likes  retweets  \n",
       "99           140  1311892190680014849  1885685    415997  "
      ]
     },
     "execution_count": 489,
     "metadata": {},
     "output_type": "execute_result"
    }
   ],
   "source": [
    "df[df['likes']==df['likes'].max()]"
   ]
  },
  {
   "cell_type": "code",
   "execution_count": 490,
   "metadata": {},
   "outputs": [
    {
     "data": {
      "text/plain": [
       "count    9.460000e+02\n",
       "mean     9.712559e+04\n",
       "std      1.094656e+05\n",
       "min      0.000000e+00\n",
       "25%      4.154775e+04\n",
       "50%      6.645550e+04\n",
       "75%      1.174175e+05\n",
       "max      1.885685e+06\n",
       "Name: likes, dtype: float64"
      ]
     },
     "execution_count": 490,
     "metadata": {},
     "output_type": "execute_result"
    }
   ],
   "source": [
    "df['likes'].describe()"
   ]
  },
  {
   "cell_type": "markdown",
   "metadata": {},
   "source": [
    "## Test TextBlob"
   ]
  },
  {
   "cell_type": "code",
   "execution_count": 491,
   "metadata": {},
   "outputs": [
    {
     "data": {
      "text/plain": [
       "0.0"
      ]
     },
     "execution_count": 491,
     "metadata": {},
     "output_type": "execute_result"
    }
   ],
   "source": [
    "a = TextBlob(\"Wear your mask\")\n",
    "a.sentiment.polarity"
   ]
  },
  {
   "cell_type": "markdown",
   "metadata": {},
   "source": [
    "## Add Sentiment and Subjectivity Columns"
   ]
  },
  {
   "cell_type": "markdown",
   "metadata": {},
   "source": [
    "Adds sentiment and subjectivity\n",
    "\n",
    "Sentiment is how positive or negative a sentence is\n",
    "\n",
    "Sujectivity is how much of an opinion or fact a sentence is (0 is opinion, 1 is fact)"
   ]
  },
  {
   "cell_type": "code",
   "execution_count": 492,
   "metadata": {},
   "outputs": [
    {
     "name": "stdout",
     "output_type": "stream",
     "text": [
      "(946, 8)\n"
     ]
    },
    {
     "data": {
      "text/html": [
       "<div>\n",
       "<style scoped>\n",
       "    .dataframe tbody tr th:only-of-type {\n",
       "        vertical-align: middle;\n",
       "    }\n",
       "\n",
       "    .dataframe tbody tr th {\n",
       "        vertical-align: top;\n",
       "    }\n",
       "\n",
       "    .dataframe thead th {\n",
       "        text-align: right;\n",
       "    }\n",
       "</style>\n",
       "<table border=\"1\" class=\"dataframe\">\n",
       "  <thead>\n",
       "    <tr style=\"text-align: right;\">\n",
       "      <th></th>\n",
       "      <th>date</th>\n",
       "      <th>tweet</th>\n",
       "      <th>tweet_length</th>\n",
       "      <th>id</th>\n",
       "      <th>likes</th>\n",
       "      <th>retweets</th>\n",
       "      <th>sentiment</th>\n",
       "      <th>subjectivity</th>\n",
       "    </tr>\n",
       "  </thead>\n",
       "  <tbody>\n",
       "    <tr>\n",
       "      <th>0</th>\n",
       "      <td>2020-10-07</td>\n",
       "      <td>THE FAKE NEWS MEDIA IS THE REAL OPPOSITION PARTY!</td>\n",
       "      <td>49</td>\n",
       "      <td>1313863059019051009</td>\n",
       "      <td>108262</td>\n",
       "      <td>24790</td>\n",
       "      <td>-0.125000</td>\n",
       "      <td>0.650000</td>\n",
       "    </tr>\n",
       "    <tr>\n",
       "      <th>1</th>\n",
       "      <td>2020-10-07</td>\n",
       "      <td>Undecided Voters at Concast Town Hall Previous...</td>\n",
       "      <td>110</td>\n",
       "      <td>1313861656766820352</td>\n",
       "      <td>23402</td>\n",
       "      <td>7872</td>\n",
       "      <td>-0.166667</td>\n",
       "      <td>0.166667</td>\n",
       "    </tr>\n",
       "    <tr>\n",
       "      <th>2</th>\n",
       "      <td>2020-10-07</td>\n",
       "      <td>NOW THAT THE RADICAL LEFT DEMOCRATS GOT CAUGHT...</td>\n",
       "      <td>140</td>\n",
       "      <td>1313854465276080128</td>\n",
       "      <td>59299</td>\n",
       "      <td>18392</td>\n",
       "      <td>-0.075000</td>\n",
       "      <td>0.500000</td>\n",
       "    </tr>\n",
       "    <tr>\n",
       "      <th>3</th>\n",
       "      <td>2020-10-07</td>\n",
       "      <td>She is far further left than Crazy Bernie. Bid...</td>\n",
       "      <td>96</td>\n",
       "      <td>1313849980906614785</td>\n",
       "      <td>36196</td>\n",
       "      <td>10290</td>\n",
       "      <td>-0.100000</td>\n",
       "      <td>0.493333</td>\n",
       "    </tr>\n",
       "    <tr>\n",
       "      <th>4</th>\n",
       "      <td>2020-10-07</td>\n",
       "      <td>Ari, THE MEDIA IS CORRUPT, JUST LIKE OUR DEMOC...</td>\n",
       "      <td>140</td>\n",
       "      <td>1313848232716521473</td>\n",
       "      <td>35715</td>\n",
       "      <td>11741</td>\n",
       "      <td>-0.562500</td>\n",
       "      <td>1.000000</td>\n",
       "    </tr>\n",
       "  </tbody>\n",
       "</table>\n",
       "</div>"
      ],
      "text/plain": [
       "         date                                              tweet  \\\n",
       "0  2020-10-07  THE FAKE NEWS MEDIA IS THE REAL OPPOSITION PARTY!   \n",
       "1  2020-10-07  Undecided Voters at Concast Town Hall Previous...   \n",
       "2  2020-10-07  NOW THAT THE RADICAL LEFT DEMOCRATS GOT CAUGHT...   \n",
       "3  2020-10-07  She is far further left than Crazy Bernie. Bid...   \n",
       "4  2020-10-07  Ari, THE MEDIA IS CORRUPT, JUST LIKE OUR DEMOC...   \n",
       "\n",
       "   tweet_length                   id   likes  retweets  sentiment  \\\n",
       "0            49  1313863059019051009  108262     24790  -0.125000   \n",
       "1           110  1313861656766820352   23402      7872  -0.166667   \n",
       "2           140  1313854465276080128   59299     18392  -0.075000   \n",
       "3            96  1313849980906614785   36196     10290  -0.100000   \n",
       "4           140  1313848232716521473   35715     11741  -0.562500   \n",
       "\n",
       "   subjectivity  \n",
       "0      0.650000  \n",
       "1      0.166667  \n",
       "2      0.500000  \n",
       "3      0.493333  \n",
       "4      1.000000  "
      ]
     },
     "execution_count": 492,
     "metadata": {},
     "output_type": "execute_result"
    }
   ],
   "source": [
    "df['sentiment'] = df['tweet'].apply(lambda tweet: TextBlob(tweet).sentiment.polarity)\n",
    "df['subjectivity'] = df['tweet'].apply(lambda tweet: TextBlob(tweet).sentiment.subjectivity)\n",
    "df['date'] = pd.to_datetime(df['date']).dt.date\n",
    "print(df.shape)\n",
    "df.head()\n"
   ]
  },
  {
   "cell_type": "markdown",
   "metadata": {},
   "source": [
    "## Remove Retweet Links"
   ]
  },
  {
   "cell_type": "markdown",
   "metadata": {},
   "source": [
    "We use regex to remove any links embedded on Trump's tweets, as some tweets are just a link or retweet of someone else, leading to useless data that skews our calculations, or messes with the NLP functions"
   ]
  },
  {
   "cell_type": "code",
   "execution_count": 493,
   "metadata": {},
   "outputs": [],
   "source": [
    "#Test regex\n",
    "#re.sub('(https.+[ ])|(https.+)', '', \"HELLO https://t.co/AWC0HLAgJD HELLO\")"
   ]
  },
  {
   "cell_type": "code",
   "execution_count": 494,
   "metadata": {},
   "outputs": [],
   "source": [
    "df['tweet'] = df['tweet'].apply(lambda tweet: re.sub('(https.+[ ])|(https.+)', '', tweet))"
   ]
  },
  {
   "cell_type": "code",
   "execution_count": 495,
   "metadata": {},
   "outputs": [],
   "source": [
    "df = df[df['tweet'] != \"\"]"
   ]
  },
  {
   "cell_type": "code",
   "execution_count": 496,
   "metadata": {},
   "outputs": [
    {
     "name": "stdout",
     "output_type": "stream",
     "text": [
      "(761, 8)\n"
     ]
    },
    {
     "data": {
      "text/html": [
       "<div>\n",
       "<style scoped>\n",
       "    .dataframe tbody tr th:only-of-type {\n",
       "        vertical-align: middle;\n",
       "    }\n",
       "\n",
       "    .dataframe tbody tr th {\n",
       "        vertical-align: top;\n",
       "    }\n",
       "\n",
       "    .dataframe thead th {\n",
       "        text-align: right;\n",
       "    }\n",
       "</style>\n",
       "<table border=\"1\" class=\"dataframe\">\n",
       "  <thead>\n",
       "    <tr style=\"text-align: right;\">\n",
       "      <th></th>\n",
       "      <th>date</th>\n",
       "      <th>tweet</th>\n",
       "      <th>tweet_length</th>\n",
       "      <th>id</th>\n",
       "      <th>likes</th>\n",
       "      <th>retweets</th>\n",
       "      <th>sentiment</th>\n",
       "      <th>subjectivity</th>\n",
       "    </tr>\n",
       "  </thead>\n",
       "  <tbody>\n",
       "    <tr>\n",
       "      <th>0</th>\n",
       "      <td>2020-10-07</td>\n",
       "      <td>THE FAKE NEWS MEDIA IS THE REAL OPPOSITION PARTY!</td>\n",
       "      <td>49</td>\n",
       "      <td>1313863059019051009</td>\n",
       "      <td>108262</td>\n",
       "      <td>24790</td>\n",
       "      <td>-0.125000</td>\n",
       "      <td>0.650000</td>\n",
       "    </tr>\n",
       "    <tr>\n",
       "      <th>1</th>\n",
       "      <td>2020-10-07</td>\n",
       "      <td>Undecided Voters at Concast Town Hall Previous...</td>\n",
       "      <td>110</td>\n",
       "      <td>1313861656766820352</td>\n",
       "      <td>23402</td>\n",
       "      <td>7872</td>\n",
       "      <td>-0.166667</td>\n",
       "      <td>0.166667</td>\n",
       "    </tr>\n",
       "    <tr>\n",
       "      <th>2</th>\n",
       "      <td>2020-10-07</td>\n",
       "      <td>NOW THAT THE RADICAL LEFT DEMOCRATS GOT CAUGHT...</td>\n",
       "      <td>140</td>\n",
       "      <td>1313854465276080128</td>\n",
       "      <td>59299</td>\n",
       "      <td>18392</td>\n",
       "      <td>-0.075000</td>\n",
       "      <td>0.500000</td>\n",
       "    </tr>\n",
       "    <tr>\n",
       "      <th>3</th>\n",
       "      <td>2020-10-07</td>\n",
       "      <td>She is far further left than Crazy Bernie. Bid...</td>\n",
       "      <td>96</td>\n",
       "      <td>1313849980906614785</td>\n",
       "      <td>36196</td>\n",
       "      <td>10290</td>\n",
       "      <td>-0.100000</td>\n",
       "      <td>0.493333</td>\n",
       "    </tr>\n",
       "    <tr>\n",
       "      <th>4</th>\n",
       "      <td>2020-10-07</td>\n",
       "      <td>Ari, THE MEDIA IS CORRUPT, JUST LIKE OUR DEMOC...</td>\n",
       "      <td>140</td>\n",
       "      <td>1313848232716521473</td>\n",
       "      <td>35715</td>\n",
       "      <td>11741</td>\n",
       "      <td>-0.562500</td>\n",
       "      <td>1.000000</td>\n",
       "    </tr>\n",
       "  </tbody>\n",
       "</table>\n",
       "</div>"
      ],
      "text/plain": [
       "         date                                              tweet  \\\n",
       "0  2020-10-07  THE FAKE NEWS MEDIA IS THE REAL OPPOSITION PARTY!   \n",
       "1  2020-10-07  Undecided Voters at Concast Town Hall Previous...   \n",
       "2  2020-10-07  NOW THAT THE RADICAL LEFT DEMOCRATS GOT CAUGHT...   \n",
       "3  2020-10-07  She is far further left than Crazy Bernie. Bid...   \n",
       "4  2020-10-07  Ari, THE MEDIA IS CORRUPT, JUST LIKE OUR DEMOC...   \n",
       "\n",
       "   tweet_length                   id   likes  retweets  sentiment  \\\n",
       "0            49  1313863059019051009  108262     24790  -0.125000   \n",
       "1           110  1313861656766820352   23402      7872  -0.166667   \n",
       "2           140  1313854465276080128   59299     18392  -0.075000   \n",
       "3            96  1313849980906614785   36196     10290  -0.100000   \n",
       "4           140  1313848232716521473   35715     11741  -0.562500   \n",
       "\n",
       "   subjectivity  \n",
       "0      0.650000  \n",
       "1      0.166667  \n",
       "2      0.500000  \n",
       "3      0.493333  \n",
       "4      1.000000  "
      ]
     },
     "execution_count": 496,
     "metadata": {},
     "output_type": "execute_result"
    }
   ],
   "source": [
    "print(df.shape)\n",
    "df.head()"
   ]
  },
  {
   "cell_type": "markdown",
   "metadata": {},
   "source": [
    "## Get only most Popular and Least Subjective Tweets"
   ]
  },
  {
   "cell_type": "markdown",
   "metadata": {},
   "source": [
    "Since we only care about determining popularity based on sentiment, we'll only use the 75th percentile of tweets based on likes. Since Trump likes talking about himself and patting himself on the back, we'll only use tweets with a subjectivity level of 70% or below, as we believe that tweets were he is highly focusing on his personal opinion of himself should be neutral rather than a \"positive\" or \"negative\" tweet, but are skewed as being positive with the NLP library we're using."
   ]
  },
  {
   "cell_type": "code",
   "execution_count": 509,
   "metadata": {},
   "outputs": [
    {
     "name": "stdout",
     "output_type": "stream",
     "text": [
      "(148, 8)\n"
     ]
    },
    {
     "data": {
      "text/html": [
       "<div>\n",
       "<style scoped>\n",
       "    .dataframe tbody tr th:only-of-type {\n",
       "        vertical-align: middle;\n",
       "    }\n",
       "\n",
       "    .dataframe tbody tr th {\n",
       "        vertical-align: top;\n",
       "    }\n",
       "\n",
       "    .dataframe thead th {\n",
       "        text-align: right;\n",
       "    }\n",
       "</style>\n",
       "<table border=\"1\" class=\"dataframe\">\n",
       "  <thead>\n",
       "    <tr style=\"text-align: right;\">\n",
       "      <th></th>\n",
       "      <th>date</th>\n",
       "      <th>tweet</th>\n",
       "      <th>tweet_length</th>\n",
       "      <th>id</th>\n",
       "      <th>likes</th>\n",
       "      <th>retweets</th>\n",
       "      <th>sentiment</th>\n",
       "      <th>subjectivity</th>\n",
       "    </tr>\n",
       "  </thead>\n",
       "  <tbody>\n",
       "    <tr>\n",
       "      <th>25</th>\n",
       "      <td>2020-10-07</td>\n",
       "      <td>11,00 North Carolina residents get incorrect v...</td>\n",
       "      <td>140</td>\n",
       "      <td>1313661368856457217</td>\n",
       "      <td>143351</td>\n",
       "      <td>42939</td>\n",
       "      <td>0.000000</td>\n",
       "      <td>0.000000</td>\n",
       "    </tr>\n",
       "    <tr>\n",
       "      <th>26</th>\n",
       "      <td>2020-10-07</td>\n",
       "      <td>The House &amp;amp; Senate should IMMEDIATELY Appr...</td>\n",
       "      <td>148</td>\n",
       "      <td>1313658825040371712</td>\n",
       "      <td>160376</td>\n",
       "      <td>43322</td>\n",
       "      <td>0.000000</td>\n",
       "      <td>0.000000</td>\n",
       "    </tr>\n",
       "    <tr>\n",
       "      <th>27</th>\n",
       "      <td>2020-10-07</td>\n",
       "      <td>Wear your mask in the “beauty” parlor, Nancy!</td>\n",
       "      <td>69</td>\n",
       "      <td>1313654133153583104</td>\n",
       "      <td>193541</td>\n",
       "      <td>41866</td>\n",
       "      <td>0.000000</td>\n",
       "      <td>0.000000</td>\n",
       "    </tr>\n",
       "    <tr>\n",
       "      <th>31</th>\n",
       "      <td>2020-10-07</td>\n",
       "      <td>All Russia Hoax Scandal information was Declas...</td>\n",
       "      <td>140</td>\n",
       "      <td>1313650640699224069</td>\n",
       "      <td>145965</td>\n",
       "      <td>41914</td>\n",
       "      <td>-0.275000</td>\n",
       "      <td>0.700000</td>\n",
       "    </tr>\n",
       "    <tr>\n",
       "      <th>38</th>\n",
       "      <td>2020-10-07</td>\n",
       "      <td>I have fully authorized the total Declassifica...</td>\n",
       "      <td>144</td>\n",
       "      <td>1313640512025513984</td>\n",
       "      <td>218458</td>\n",
       "      <td>80849</td>\n",
       "      <td>0.309524</td>\n",
       "      <td>0.654762</td>\n",
       "    </tr>\n",
       "  </tbody>\n",
       "</table>\n",
       "</div>"
      ],
      "text/plain": [
       "          date                                              tweet  \\\n",
       "25  2020-10-07  11,00 North Carolina residents get incorrect v...   \n",
       "26  2020-10-07  The House &amp; Senate should IMMEDIATELY Appr...   \n",
       "27  2020-10-07     Wear your mask in the “beauty” parlor, Nancy!    \n",
       "31  2020-10-07  All Russia Hoax Scandal information was Declas...   \n",
       "38  2020-10-07  I have fully authorized the total Declassifica...   \n",
       "\n",
       "    tweet_length                   id   likes  retweets  sentiment  \\\n",
       "25           140  1313661368856457217  143351     42939   0.000000   \n",
       "26           148  1313658825040371712  160376     43322   0.000000   \n",
       "27            69  1313654133153583104  193541     41866   0.000000   \n",
       "31           140  1313650640699224069  145965     41914  -0.275000   \n",
       "38           144  1313640512025513984  218458     80849   0.309524   \n",
       "\n",
       "    subjectivity  \n",
       "25      0.000000  \n",
       "26      0.000000  \n",
       "27      0.000000  \n",
       "31      0.700000  \n",
       "38      0.654762  "
      ]
     },
     "execution_count": 509,
     "metadata": {},
     "output_type": "execute_result"
    }
   ],
   "source": [
    "dfMostLiked = df[df['likes'] >=np.percentile(df.likes, 75)]\n",
    "dfMostLiked = dfMostLiked[dfMostLiked['subjectivity'] <= 0.7]\n",
    "print(dfMostLiked.shape)\n",
    "dfMostLiked.head()"
   ]
  },
  {
   "cell_type": "markdown",
   "metadata": {},
   "source": [
    "Since each tweet has an equal weight when determining the days's sentiment polarity, we will round all negative polarity tweets to -1 and all positive polarity tweets to 1, then take the average per day to determine how a day's sentiment is calucalted"
   ]
  },
  {
   "cell_type": "code",
   "execution_count": 510,
   "metadata": {},
   "outputs": [
    {
     "data": {
      "text/plain": [
       "Text(0.5, 1.0, 'Daily Average Sentiment')"
      ]
     },
     "execution_count": 510,
     "metadata": {},
     "output_type": "execute_result"
    },
    {
     "data": {
      "image/png": "[encoded data removed]",
      "text/plain": [
       "<Figure size 1440x720 with 1 Axes>"
      ]
     },
     "metadata": {},
     "output_type": "display_data"
    }
   ],
   "source": [
    "df_date = dfMostLiked.copy()\n",
    "df_date.loc[df_date['sentiment'] < 0, 'sentiment'] = -1\n",
    "df_date.loc[df_date['sentiment'] > 0, 'sentiment'] = 1\n",
    "df_date_counts = df_date.groupby(['date']).mean().reset_index()\n",
    "df_date_counts.plot(kind= 'line', x ='date', y = 'sentiment', figsize = (20,10), ylim = (-1.5,1.5))\n",
    "plt.axhline(y=0, color = 'black')\n",
    "plt.ylabel('Average Sentiment')\n",
    "plt.title('Daily Average Sentiment')"
   ]
  },
  {
   "cell_type": "code",
   "execution_count": 511,
   "metadata": {},
   "outputs": [
    {
     "data": {
      "text/plain": [
       "16.0"
      ]
     },
     "execution_count": 511,
     "metadata": {},
     "output_type": "execute_result"
    }
   ],
   "source": [
    "df_date = dfMostLiked.copy()\n",
    "df_date.loc[df_date['sentiment'] < 0, 'sentiment'] = -1\n",
    "df_date.loc[df_date['sentiment'] > 0, 'sentiment'] = 1\n",
    "df_date['sentiment'].sum()"
   ]
  },
  {
   "cell_type": "code",
   "execution_count": null,
   "metadata": {},
   "outputs": [],
   "source": []
  },
  {
   "cell_type": "code",
   "execution_count": null,
   "metadata": {},
   "outputs": [],
   "source": []
  },
  {
   "cell_type": "code",
   "execution_count": null,
   "metadata": {},
   "outputs": [],
   "source": []
  },
  {
   "cell_type": "code",
   "execution_count": null,
   "metadata": {},
   "outputs": [],
   "source": []
  },
  {
   "cell_type": "code",
   "execution_count": null,
   "metadata": {},
   "outputs": [],
   "source": []
  },
  {
   "cell_type": "code",
   "execution_count": null,
   "metadata": {},
   "outputs": [],
   "source": []
  }
 ],
 "metadata": {
  "kernelspec": {
   "display_name": "Python 3",
   "language": "python",
   "name": "python3"
  },
  "language_info": {
   "codemirror_mode": {
    "name": "ipython",
    "version": 3
   },
   "file_extension": ".py",
   "mimetype": "text/x-python",
   "name": "python",
   "nbconvert_exporter": "python",
   "pygments_lexer": "ipython3",
   "version": "3.7.3"
  }
 },
 "nbformat": 4,
 "nbformat_minor": 4
}
